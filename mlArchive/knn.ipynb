{
 "cells": [
  {
   "cell_type": "code",
   "execution_count": 50,
   "id": "initial_id",
   "metadata": {
    "collapsed": true,
    "ExecuteTime": {
     "end_time": "2023-12-06T09:35:34.383179900Z",
     "start_time": "2023-12-06T09:35:34.376013300Z"
    }
   },
   "outputs": [],
   "source": [
    "import numpy as np\n",
    "import pandas as pd\n",
    "from sklearn.ensemble import RandomForestClassifier\n",
    "from sklearn.model_selection import GridSearchCV\n",
    "from sklearn.neighbors import KNeighborsClassifier\n",
    "from sklearn.model_selection import train_test_split\n",
    "from sklearn.preprocessing import LabelEncoder\n",
    "from sklearn.model_selection import train_test_split\n",
    "from sklearn.preprocessing import LabelEncoder\n",
    "from sklearn.svm import SVC\n",
    "import plotly.express as px\n",
    "from sklearn.preprocessing import MinMaxScaler\n",
    "from sklearn.model_selection import LeaveOneOut\n",
    "from sklearn.metrics import accuracy_score\n",
    "import matplotlib.pyplot as plt\n",
    "import seaborn as sns\n",
    "from imblearn.over_sampling import SMOTE\n",
    "from collections import Counter\n",
    "from sklearn import svm\n",
    "from sklearn import metrics"
   ]
  },
  {
   "cell_type": "code",
   "execution_count": 51,
   "outputs": [
    {
     "data": {
      "text/plain": "      Education  JoiningYear       City  PaymentTier  Age  Gender EverBenched  \\\n0     Bachelors         2017  Bangalore            3   34    Male          No   \n1     Bachelors         2013       Pune            1   28  Female          No   \n2     Bachelors         2014  New Delhi            3   38  Female          No   \n3       Masters         2016  Bangalore            3   27    Male          No   \n4       Masters         2017       Pune            3   24    Male         Yes   \n...         ...          ...        ...          ...  ...     ...         ...   \n4648  Bachelors         2013  Bangalore            3   26  Female          No   \n4649    Masters         2013       Pune            2   37    Male          No   \n4650    Masters         2018  New Delhi            3   27    Male          No   \n4651  Bachelors         2012  Bangalore            3   30    Male         Yes   \n4652  Bachelors         2015  Bangalore            3   33    Male         Yes   \n\n      ExperienceInCurrentDomain  LeaveOrNot  \n0                             0           0  \n1                             3           1  \n2                             2           0  \n3                             5           1  \n4                             2           1  \n...                         ...         ...  \n4648                          4           0  \n4649                          2           1  \n4650                          5           1  \n4651                          2           0  \n4652                          4           0  \n\n[4653 rows x 9 columns]",
      "text/html": "<div>\n<style scoped>\n    .dataframe tbody tr th:only-of-type {\n        vertical-align: middle;\n    }\n\n    .dataframe tbody tr th {\n        vertical-align: top;\n    }\n\n    .dataframe thead th {\n        text-align: right;\n    }\n</style>\n<table border=\"1\" class=\"dataframe\">\n  <thead>\n    <tr style=\"text-align: right;\">\n      <th></th>\n      <th>Education</th>\n      <th>JoiningYear</th>\n      <th>City</th>\n      <th>PaymentTier</th>\n      <th>Age</th>\n      <th>Gender</th>\n      <th>EverBenched</th>\n      <th>ExperienceInCurrentDomain</th>\n      <th>LeaveOrNot</th>\n    </tr>\n  </thead>\n  <tbody>\n    <tr>\n      <th>0</th>\n      <td>Bachelors</td>\n      <td>2017</td>\n      <td>Bangalore</td>\n      <td>3</td>\n      <td>34</td>\n      <td>Male</td>\n      <td>No</td>\n      <td>0</td>\n      <td>0</td>\n    </tr>\n    <tr>\n      <th>1</th>\n      <td>Bachelors</td>\n      <td>2013</td>\n      <td>Pune</td>\n      <td>1</td>\n      <td>28</td>\n      <td>Female</td>\n      <td>No</td>\n      <td>3</td>\n      <td>1</td>\n    </tr>\n    <tr>\n      <th>2</th>\n      <td>Bachelors</td>\n      <td>2014</td>\n      <td>New Delhi</td>\n      <td>3</td>\n      <td>38</td>\n      <td>Female</td>\n      <td>No</td>\n      <td>2</td>\n      <td>0</td>\n    </tr>\n    <tr>\n      <th>3</th>\n      <td>Masters</td>\n      <td>2016</td>\n      <td>Bangalore</td>\n      <td>3</td>\n      <td>27</td>\n      <td>Male</td>\n      <td>No</td>\n      <td>5</td>\n      <td>1</td>\n    </tr>\n    <tr>\n      <th>4</th>\n      <td>Masters</td>\n      <td>2017</td>\n      <td>Pune</td>\n      <td>3</td>\n      <td>24</td>\n      <td>Male</td>\n      <td>Yes</td>\n      <td>2</td>\n      <td>1</td>\n    </tr>\n    <tr>\n      <th>...</th>\n      <td>...</td>\n      <td>...</td>\n      <td>...</td>\n      <td>...</td>\n      <td>...</td>\n      <td>...</td>\n      <td>...</td>\n      <td>...</td>\n      <td>...</td>\n    </tr>\n    <tr>\n      <th>4648</th>\n      <td>Bachelors</td>\n      <td>2013</td>\n      <td>Bangalore</td>\n      <td>3</td>\n      <td>26</td>\n      <td>Female</td>\n      <td>No</td>\n      <td>4</td>\n      <td>0</td>\n    </tr>\n    <tr>\n      <th>4649</th>\n      <td>Masters</td>\n      <td>2013</td>\n      <td>Pune</td>\n      <td>2</td>\n      <td>37</td>\n      <td>Male</td>\n      <td>No</td>\n      <td>2</td>\n      <td>1</td>\n    </tr>\n    <tr>\n      <th>4650</th>\n      <td>Masters</td>\n      <td>2018</td>\n      <td>New Delhi</td>\n      <td>3</td>\n      <td>27</td>\n      <td>Male</td>\n      <td>No</td>\n      <td>5</td>\n      <td>1</td>\n    </tr>\n    <tr>\n      <th>4651</th>\n      <td>Bachelors</td>\n      <td>2012</td>\n      <td>Bangalore</td>\n      <td>3</td>\n      <td>30</td>\n      <td>Male</td>\n      <td>Yes</td>\n      <td>2</td>\n      <td>0</td>\n    </tr>\n    <tr>\n      <th>4652</th>\n      <td>Bachelors</td>\n      <td>2015</td>\n      <td>Bangalore</td>\n      <td>3</td>\n      <td>33</td>\n      <td>Male</td>\n      <td>Yes</td>\n      <td>4</td>\n      <td>0</td>\n    </tr>\n  </tbody>\n</table>\n<p>4653 rows × 9 columns</p>\n</div>"
     },
     "execution_count": 51,
     "metadata": {},
     "output_type": "execute_result"
    }
   ],
   "source": [
    "df = pd.read_csv('dataset/Employee.csv')\n",
    "df"
   ],
   "metadata": {
    "collapsed": false,
    "ExecuteTime": {
     "end_time": "2023-12-06T09:35:36.794220600Z",
     "start_time": "2023-12-06T09:35:36.740828700Z"
    }
   },
   "id": "899b423c0c920e5d"
  },
  {
   "cell_type": "code",
   "execution_count": 52,
   "outputs": [
    {
     "data": {
      "text/plain": "Education                    object\nJoiningYear                   int64\nCity                         object\nPaymentTier                   int64\nAge                           int64\nGender                       object\nEverBenched                  object\nExperienceInCurrentDomain     int64\nLeaveOrNot                    int64\ndtype: object"
     },
     "execution_count": 52,
     "metadata": {},
     "output_type": "execute_result"
    }
   ],
   "source": [
    "df.dtypes"
   ],
   "metadata": {
    "collapsed": false,
    "ExecuteTime": {
     "end_time": "2023-12-06T09:35:39.774507400Z",
     "start_time": "2023-12-06T09:35:39.760199500Z"
    }
   },
   "id": "8326e09a76d676ea"
  },
  {
   "cell_type": "code",
   "execution_count": 53,
   "outputs": [
    {
     "data": {
      "text/plain": "Education                    0\nJoiningYear                  0\nCity                         0\nPaymentTier                  0\nAge                          0\nGender                       0\nEverBenched                  0\nExperienceInCurrentDomain    0\nLeaveOrNot                   0\ndtype: int64"
     },
     "execution_count": 53,
     "metadata": {},
     "output_type": "execute_result"
    }
   ],
   "source": [
    "df.isna().sum()"
   ],
   "metadata": {
    "collapsed": false,
    "ExecuteTime": {
     "end_time": "2023-12-06T09:35:42.558742900Z",
     "start_time": "2023-12-06T09:35:42.538622900Z"
    }
   },
   "id": "ffe2635541c66db4"
  },
  {
   "cell_type": "markdown",
   "source": [
    "# Labeling Data"
   ],
   "metadata": {
    "collapsed": false
   },
   "id": "ce759f0c5731c7"
  },
  {
   "cell_type": "code",
   "execution_count": 54,
   "outputs": [],
   "source": [
    "labelencoder = LabelEncoder()\n",
    "cat_cols = [col for col in df.select_dtypes(include='object').columns.tolist()]"
   ],
   "metadata": {
    "collapsed": false,
    "ExecuteTime": {
     "end_time": "2023-12-06T09:35:47.967154Z",
     "start_time": "2023-12-06T09:35:47.952371300Z"
    }
   },
   "id": "e0550d977fe777e4"
  },
  {
   "cell_type": "code",
   "execution_count": 55,
   "outputs": [
    {
     "data": {
      "text/plain": "['Education', 'City', 'Gender', 'EverBenched']"
     },
     "execution_count": 55,
     "metadata": {},
     "output_type": "execute_result"
    }
   ],
   "source": [
    "cat_cols"
   ],
   "metadata": {
    "collapsed": false,
    "ExecuteTime": {
     "end_time": "2023-12-06T09:35:50.449629300Z",
     "start_time": "2023-12-06T09:35:50.431128200Z"
    }
   },
   "id": "76705a8ab73815cf"
  },
  {
   "cell_type": "code",
   "execution_count": 31,
   "outputs": [
    {
     "data": {
      "text/plain": "      Education  City  Gender  EverBenched\n0             0     0       1            0\n1             0     2       0            0\n2             0     1       0            0\n3             1     0       1            0\n4             1     2       1            1\n...         ...   ...     ...          ...\n4648          0     0       0            0\n4649          1     2       1            0\n4650          1     1       1            0\n4651          0     0       1            1\n4652          0     0       1            1\n\n[4653 rows x 4 columns]",
      "text/html": "<div>\n<style scoped>\n    .dataframe tbody tr th:only-of-type {\n        vertical-align: middle;\n    }\n\n    .dataframe tbody tr th {\n        vertical-align: top;\n    }\n\n    .dataframe thead th {\n        text-align: right;\n    }\n</style>\n<table border=\"1\" class=\"dataframe\">\n  <thead>\n    <tr style=\"text-align: right;\">\n      <th></th>\n      <th>Education</th>\n      <th>City</th>\n      <th>Gender</th>\n      <th>EverBenched</th>\n    </tr>\n  </thead>\n  <tbody>\n    <tr>\n      <th>0</th>\n      <td>0</td>\n      <td>0</td>\n      <td>1</td>\n      <td>0</td>\n    </tr>\n    <tr>\n      <th>1</th>\n      <td>0</td>\n      <td>2</td>\n      <td>0</td>\n      <td>0</td>\n    </tr>\n    <tr>\n      <th>2</th>\n      <td>0</td>\n      <td>1</td>\n      <td>0</td>\n      <td>0</td>\n    </tr>\n    <tr>\n      <th>3</th>\n      <td>1</td>\n      <td>0</td>\n      <td>1</td>\n      <td>0</td>\n    </tr>\n    <tr>\n      <th>4</th>\n      <td>1</td>\n      <td>2</td>\n      <td>1</td>\n      <td>1</td>\n    </tr>\n    <tr>\n      <th>...</th>\n      <td>...</td>\n      <td>...</td>\n      <td>...</td>\n      <td>...</td>\n    </tr>\n    <tr>\n      <th>4648</th>\n      <td>0</td>\n      <td>0</td>\n      <td>0</td>\n      <td>0</td>\n    </tr>\n    <tr>\n      <th>4649</th>\n      <td>1</td>\n      <td>2</td>\n      <td>1</td>\n      <td>0</td>\n    </tr>\n    <tr>\n      <th>4650</th>\n      <td>1</td>\n      <td>1</td>\n      <td>1</td>\n      <td>0</td>\n    </tr>\n    <tr>\n      <th>4651</th>\n      <td>0</td>\n      <td>0</td>\n      <td>1</td>\n      <td>1</td>\n    </tr>\n    <tr>\n      <th>4652</th>\n      <td>0</td>\n      <td>0</td>\n      <td>1</td>\n      <td>1</td>\n    </tr>\n  </tbody>\n</table>\n<p>4653 rows × 4 columns</p>\n</div>"
     },
     "execution_count": 31,
     "metadata": {},
     "output_type": "execute_result"
    }
   ],
   "source": [
    "label_cols = df[cat_cols].apply(LabelEncoder().fit_transform)\n",
    "label_cols"
   ],
   "metadata": {
    "collapsed": false,
    "ExecuteTime": {
     "end_time": "2023-12-06T08:37:30.121399Z",
     "start_time": "2023-12-06T08:37:29.919044Z"
    }
   },
   "id": "c81510ce9447ea7a"
  },
  {
   "cell_type": "markdown",
   "source": [
    "# Standardization"
   ],
   "metadata": {
    "collapsed": false
   },
   "id": "c432f15a85ff6f7d"
  },
  {
   "cell_type": "code",
   "execution_count": 32,
   "outputs": [],
   "source": [
    "num_cols = [col for col in df.columns.tolist() if col not in cat_cols]\n",
    "min_max_scaler = MinMaxScaler()\n",
    "std_cols_minmax = pd.DataFrame(min_max_scaler.fit_transform(df[num_cols]), columns=num_cols)"
   ],
   "metadata": {
    "collapsed": false,
    "ExecuteTime": {
     "end_time": "2023-12-06T08:37:30.121399Z",
     "start_time": "2023-12-06T08:37:29.943448400Z"
    }
   },
   "id": "60f35cbac6fad7c1"
  },
  {
   "cell_type": "code",
   "execution_count": 33,
   "outputs": [],
   "source": [
    "#normalisasi hasil pelabelan tadi karena rentang label masih ada yg jauh\n",
    "num_cols_label = [col for col in label_cols.columns.tolist() if col in cat_cols]\n",
    "label_cols_minmax = pd.DataFrame(min_max_scaler.fit_transform(label_cols), columns=num_cols_label)"
   ],
   "metadata": {
    "collapsed": false,
    "ExecuteTime": {
     "end_time": "2023-12-06T08:37:30.121399Z",
     "start_time": "2023-12-06T08:37:29.970233300Z"
    }
   },
   "id": "18c0c827e691ea62"
  },
  {
   "cell_type": "code",
   "execution_count": 34,
   "outputs": [
    {
     "data": {
      "text/plain": "      Education  City  Gender  EverBenched  JoiningYear  PaymentTier  \\\n0           0.0   0.0     1.0          0.0     0.833333          1.0   \n1           0.0   1.0     0.0          0.0     0.166667          0.0   \n2           0.0   0.5     0.0          0.0     0.333333          1.0   \n3           0.5   0.0     1.0          0.0     0.666667          1.0   \n4           0.5   1.0     1.0          1.0     0.833333          1.0   \n...         ...   ...     ...          ...          ...          ...   \n4648        0.0   0.0     0.0          0.0     0.166667          1.0   \n4649        0.5   1.0     1.0          0.0     0.166667          0.5   \n4650        0.5   0.5     1.0          0.0     1.000000          1.0   \n4651        0.0   0.0     1.0          1.0     0.000000          1.0   \n4652        0.0   0.0     1.0          1.0     0.500000          1.0   \n\n           Age  ExperienceInCurrentDomain  LeaveOrNot  \n0     0.631579                   0.000000         0.0  \n1     0.315789                   0.428571         1.0  \n2     0.842105                   0.285714         0.0  \n3     0.263158                   0.714286         1.0  \n4     0.105263                   0.285714         1.0  \n...        ...                        ...         ...  \n4648  0.210526                   0.571429         0.0  \n4649  0.789474                   0.285714         1.0  \n4650  0.263158                   0.714286         1.0  \n4651  0.421053                   0.285714         0.0  \n4652  0.578947                   0.571429         0.0  \n\n[4653 rows x 9 columns]",
      "text/html": "<div>\n<style scoped>\n    .dataframe tbody tr th:only-of-type {\n        vertical-align: middle;\n    }\n\n    .dataframe tbody tr th {\n        vertical-align: top;\n    }\n\n    .dataframe thead th {\n        text-align: right;\n    }\n</style>\n<table border=\"1\" class=\"dataframe\">\n  <thead>\n    <tr style=\"text-align: right;\">\n      <th></th>\n      <th>Education</th>\n      <th>City</th>\n      <th>Gender</th>\n      <th>EverBenched</th>\n      <th>JoiningYear</th>\n      <th>PaymentTier</th>\n      <th>Age</th>\n      <th>ExperienceInCurrentDomain</th>\n      <th>LeaveOrNot</th>\n    </tr>\n  </thead>\n  <tbody>\n    <tr>\n      <th>0</th>\n      <td>0.0</td>\n      <td>0.0</td>\n      <td>1.0</td>\n      <td>0.0</td>\n      <td>0.833333</td>\n      <td>1.0</td>\n      <td>0.631579</td>\n      <td>0.000000</td>\n      <td>0.0</td>\n    </tr>\n    <tr>\n      <th>1</th>\n      <td>0.0</td>\n      <td>1.0</td>\n      <td>0.0</td>\n      <td>0.0</td>\n      <td>0.166667</td>\n      <td>0.0</td>\n      <td>0.315789</td>\n      <td>0.428571</td>\n      <td>1.0</td>\n    </tr>\n    <tr>\n      <th>2</th>\n      <td>0.0</td>\n      <td>0.5</td>\n      <td>0.0</td>\n      <td>0.0</td>\n      <td>0.333333</td>\n      <td>1.0</td>\n      <td>0.842105</td>\n      <td>0.285714</td>\n      <td>0.0</td>\n    </tr>\n    <tr>\n      <th>3</th>\n      <td>0.5</td>\n      <td>0.0</td>\n      <td>1.0</td>\n      <td>0.0</td>\n      <td>0.666667</td>\n      <td>1.0</td>\n      <td>0.263158</td>\n      <td>0.714286</td>\n      <td>1.0</td>\n    </tr>\n    <tr>\n      <th>4</th>\n      <td>0.5</td>\n      <td>1.0</td>\n      <td>1.0</td>\n      <td>1.0</td>\n      <td>0.833333</td>\n      <td>1.0</td>\n      <td>0.105263</td>\n      <td>0.285714</td>\n      <td>1.0</td>\n    </tr>\n    <tr>\n      <th>...</th>\n      <td>...</td>\n      <td>...</td>\n      <td>...</td>\n      <td>...</td>\n      <td>...</td>\n      <td>...</td>\n      <td>...</td>\n      <td>...</td>\n      <td>...</td>\n    </tr>\n    <tr>\n      <th>4648</th>\n      <td>0.0</td>\n      <td>0.0</td>\n      <td>0.0</td>\n      <td>0.0</td>\n      <td>0.166667</td>\n      <td>1.0</td>\n      <td>0.210526</td>\n      <td>0.571429</td>\n      <td>0.0</td>\n    </tr>\n    <tr>\n      <th>4649</th>\n      <td>0.5</td>\n      <td>1.0</td>\n      <td>1.0</td>\n      <td>0.0</td>\n      <td>0.166667</td>\n      <td>0.5</td>\n      <td>0.789474</td>\n      <td>0.285714</td>\n      <td>1.0</td>\n    </tr>\n    <tr>\n      <th>4650</th>\n      <td>0.5</td>\n      <td>0.5</td>\n      <td>1.0</td>\n      <td>0.0</td>\n      <td>1.000000</td>\n      <td>1.0</td>\n      <td>0.263158</td>\n      <td>0.714286</td>\n      <td>1.0</td>\n    </tr>\n    <tr>\n      <th>4651</th>\n      <td>0.0</td>\n      <td>0.0</td>\n      <td>1.0</td>\n      <td>1.0</td>\n      <td>0.000000</td>\n      <td>1.0</td>\n      <td>0.421053</td>\n      <td>0.285714</td>\n      <td>0.0</td>\n    </tr>\n    <tr>\n      <th>4652</th>\n      <td>0.0</td>\n      <td>0.0</td>\n      <td>1.0</td>\n      <td>1.0</td>\n      <td>0.500000</td>\n      <td>1.0</td>\n      <td>0.578947</td>\n      <td>0.571429</td>\n      <td>0.0</td>\n    </tr>\n  </tbody>\n</table>\n<p>4653 rows × 9 columns</p>\n</div>"
     },
     "execution_count": 34,
     "metadata": {},
     "output_type": "execute_result"
    }
   ],
   "source": [
    "data_final = pd.concat([label_cols_minmax, std_cols_minmax], axis=1)\n",
    "data_final\n"
   ],
   "metadata": {
    "collapsed": false,
    "ExecuteTime": {
     "end_time": "2023-12-06T08:37:30.121399Z",
     "start_time": "2023-12-06T08:37:29.984319900Z"
    }
   },
   "id": "5e8e7d7b968f686d"
  },
  {
   "cell_type": "markdown",
   "source": [
    "# SPLIT DATA dan Balancing"
   ],
   "metadata": {
    "collapsed": false
   },
   "id": "d60ff8f2d252de80"
  },
  {
   "cell_type": "code",
   "execution_count": 35,
   "outputs": [],
   "source": [
    "X, y = data_final.drop(['LeaveOrNot'], axis=1), data_final.LeaveOrNot"
   ],
   "metadata": {
    "collapsed": false,
    "ExecuteTime": {
     "end_time": "2023-12-06T08:37:30.121399Z",
     "start_time": "2023-12-06T08:37:30.014480500Z"
    }
   },
   "id": "3ede57b9a3575327"
  },
  {
   "cell_type": "code",
   "execution_count": 36,
   "outputs": [
    {
     "data": {
      "text/plain": "<Figure size 640x480 with 1 Axes>",
      "image/png": "[encoded data removed]"
     },
     "metadata": {},
     "output_type": "display_data"
    }
   ],
   "source": [
    "ax = data_final['LeaveOrNot'].value_counts().plot.pie()"
   ],
   "metadata": {
    "collapsed": false,
    "ExecuteTime": {
     "end_time": "2023-12-06T08:37:30.414000500Z",
     "start_time": "2023-12-06T08:37:30.030779800Z"
    }
   },
   "id": "1b45a2c679b5d643"
  },
  {
   "cell_type": "code",
   "execution_count": 37,
   "outputs": [
    {
     "name": "stdout",
     "output_type": "stream",
     "text": [
      "Counter({0.0: 3053, 1.0: 3053})\n"
     ]
    },
    {
     "data": {
      "text/plain": "<Figure size 640x480 with 1 Axes>",
      "image/png": "[encoded data removed]"
     },
     "metadata": {},
     "output_type": "display_data"
    }
   ],
   "source": [
    "from collections import Counter\n",
    "\n",
    "oversample = SMOTE()\n",
    "x_balance, y_balance = oversample.fit_resample(X, y)\n",
    "counter = Counter(y_balance)\n",
    "print(counter)\n",
    "ax = y_balance.value_counts().plot.pie()"
   ],
   "metadata": {
    "collapsed": false,
    "ExecuteTime": {
     "end_time": "2023-12-06T08:37:30.570426300Z",
     "start_time": "2023-12-06T08:37:30.218061600Z"
    }
   },
   "id": "58509cada752b676"
  },
  {
   "cell_type": "markdown",
   "source": [
    "# Bagi data train dan test"
   ],
   "metadata": {
    "collapsed": false
   },
   "id": "673d1d07560321ea"
  },
  {
   "cell_type": "code",
   "execution_count": 38,
   "outputs": [],
   "source": [
    "X_train, X_test, y_train, y_test = train_test_split(x_balance, y_balance, test_size=0.2)"
   ],
   "metadata": {
    "collapsed": false,
    "ExecuteTime": {
     "end_time": "2023-12-06T08:37:30.570426300Z",
     "start_time": "2023-12-06T08:37:30.325630800Z"
    }
   },
   "id": "88ccf3dd19533110"
  },
  {
   "cell_type": "markdown",
   "source": [
    "# KNN Clasifier"
   ],
   "metadata": {
    "collapsed": false
   },
   "id": "37beced19e0cdd7b"
  },
  {
   "cell_type": "code",
   "execution_count": 39,
   "outputs": [
    {
     "data": {
      "text/plain": "KNeighborsClassifier()",
      "text/html": "<style>#sk-container-id-3 {color: black;}#sk-container-id-3 pre{padding: 0;}#sk-container-id-3 div.sk-toggleable {background-color: white;}#sk-container-id-3 label.sk-toggleable__label {cursor: pointer;display: block;width: 100%;margin-bottom: 0;padding: 0.3em;box-sizing: border-box;text-align: center;}#sk-container-id-3 label.sk-toggleable__label-arrow:before {content: \"▸\";float: left;margin-right: 0.25em;color: #696969;}#sk-container-id-3 label.sk-toggleable__label-arrow:hover:before {color: black;}#sk-container-id-3 div.sk-estimator:hover label.sk-toggleable__label-arrow:before {color: black;}#sk-container-id-3 div.sk-toggleable__content {max-height: 0;max-width: 0;overflow: hidden;text-align: left;background-color: #f0f8ff;}#sk-container-id-3 div.sk-toggleable__content pre {margin: 0.2em;color: black;border-radius: 0.25em;background-color: #f0f8ff;}#sk-container-id-3 input.sk-toggleable__control:checked~div.sk-toggleable__content {max-height: 200px;max-width: 100%;overflow: auto;}#sk-container-id-3 input.sk-toggleable__control:checked~label.sk-toggleable__label-arrow:before {content: \"▾\";}#sk-container-id-3 div.sk-estimator input.sk-toggleable__control:checked~label.sk-toggleable__label {background-color: #d4ebff;}#sk-container-id-3 div.sk-label input.sk-toggleable__control:checked~label.sk-toggleable__label {background-color: #d4ebff;}#sk-container-id-3 input.sk-hidden--visually {border: 0;clip: rect(1px 1px 1px 1px);clip: rect(1px, 1px, 1px, 1px);height: 1px;margin: -1px;overflow: hidden;padding: 0;position: absolute;width: 1px;}#sk-container-id-3 div.sk-estimator {font-family: monospace;background-color: #f0f8ff;border: 1px dotted black;border-radius: 0.25em;box-sizing: border-box;margin-bottom: 0.5em;}#sk-container-id-3 div.sk-estimator:hover {background-color: #d4ebff;}#sk-container-id-3 div.sk-parallel-item::after {content: \"\";width: 100%;border-bottom: 1px solid gray;flex-grow: 1;}#sk-container-id-3 div.sk-label:hover label.sk-toggleable__label {background-color: #d4ebff;}#sk-container-id-3 div.sk-serial::before {content: \"\";position: absolute;border-left: 1px solid gray;box-sizing: border-box;top: 0;bottom: 0;left: 50%;z-index: 0;}#sk-container-id-3 div.sk-serial {display: flex;flex-direction: column;align-items: center;background-color: white;padding-right: 0.2em;padding-left: 0.2em;position: relative;}#sk-container-id-3 div.sk-item {position: relative;z-index: 1;}#sk-container-id-3 div.sk-parallel {display: flex;align-items: stretch;justify-content: center;background-color: white;position: relative;}#sk-container-id-3 div.sk-item::before, #sk-container-id-3 div.sk-parallel-item::before {content: \"\";position: absolute;border-left: 1px solid gray;box-sizing: border-box;top: 0;bottom: 0;left: 50%;z-index: -1;}#sk-container-id-3 div.sk-parallel-item {display: flex;flex-direction: column;z-index: 1;position: relative;background-color: white;}#sk-container-id-3 div.sk-parallel-item:first-child::after {align-self: flex-end;width: 50%;}#sk-container-id-3 div.sk-parallel-item:last-child::after {align-self: flex-start;width: 50%;}#sk-container-id-3 div.sk-parallel-item:only-child::after {width: 0;}#sk-container-id-3 div.sk-dashed-wrapped {border: 1px dashed gray;margin: 0 0.4em 0.5em 0.4em;box-sizing: border-box;padding-bottom: 0.4em;background-color: white;}#sk-container-id-3 div.sk-label label {font-family: monospace;font-weight: bold;display: inline-block;line-height: 1.2em;}#sk-container-id-3 div.sk-label-container {text-align: center;}#sk-container-id-3 div.sk-container {/* jupyter's `normalize.less` sets `[hidden] { display: none; }` but bootstrap.min.css set `[hidden] { display: none !important; }` so we also need the `!important` here to be able to override the default hidden behavior on the sphinx rendered scikit-learn.org. See: https://github.com/scikit-learn/scikit-learn/issues/21755 */display: inline-block !important;position: relative;}#sk-container-id-3 div.sk-text-repr-fallback {display: none;}</style><div id=\"sk-container-id-3\" class=\"sk-top-container\"><div class=\"sk-text-repr-fallback\"><pre>KNeighborsClassifier()</pre><b>In a Jupyter environment, please rerun this cell to show the HTML representation or trust the notebook. <br />On GitHub, the HTML representation is unable to render, please try loading this page with nbviewer.org.</b></div><div class=\"sk-container\" hidden><div class=\"sk-item\"><div class=\"sk-estimator sk-toggleable\"><input class=\"sk-toggleable__control sk-hidden--visually\" id=\"sk-estimator-id-3\" type=\"checkbox\" checked><label for=\"sk-estimator-id-3\" class=\"sk-toggleable__label sk-toggleable__label-arrow\">KNeighborsClassifier</label><div class=\"sk-toggleable__content\"><pre>KNeighborsClassifier()</pre></div></div></div></div></div>"
     },
     "execution_count": 39,
     "metadata": {},
     "output_type": "execute_result"
    }
   ],
   "source": [
    "knn = KNeighborsClassifier(n_neighbors=5)\n",
    "knn.fit(X_train, y_train)"
   ],
   "metadata": {
    "collapsed": false,
    "ExecuteTime": {
     "end_time": "2023-12-06T08:37:30.586052100Z",
     "start_time": "2023-12-06T08:37:30.338861500Z"
    }
   },
   "id": "fb625b2a25e20ed9"
  },
  {
   "cell_type": "code",
   "execution_count": 40,
   "outputs": [],
   "source": [
    "knn = KNeighborsClassifier()\n",
    "\n",
    "param_grid = {\n",
    "    'n_neighbors': [3, 5, 7, 9],\n",
    "    'weights': ['uniform', 'distance'],\n",
    "    'p': [1, 2],\n",
    "}\n",
    "\n",
    "grid_search = GridSearchCV(knn, param_grid, cv=5)\n",
    "\n",
    "grid_search.fit(X_train, y_train)\n",
    "\n",
    "best_params = grid_search.best_params_\n",
    "best_score = grid_search.best_score_\n",
    "\n",
    "best_knn = grid_search.best_estimator_\n",
    "best_knn.fit(X_train, y_train)\n",
    "\n",
    "accuracy = best_knn.score(X_test, y_test)"
   ],
   "metadata": {
    "collapsed": false,
    "ExecuteTime": {
     "end_time": "2023-12-06T08:37:33.844595700Z",
     "start_time": "2023-12-06T08:37:30.358647700Z"
    }
   },
   "id": "3f825dd0717c0540"
  },
  {
   "cell_type": "code",
   "execution_count": 41,
   "outputs": [
    {
     "name": "stdout",
     "output_type": "stream",
     "text": [
      "0.8330605564648118\n"
     ]
    }
   ],
   "source": [
    "print(accuracy)"
   ],
   "metadata": {
    "collapsed": false,
    "ExecuteTime": {
     "end_time": "2023-12-06T08:37:33.852398800Z",
     "start_time": "2023-12-06T08:37:33.850602Z"
    }
   },
   "id": "b3442600213c642e"
  },
  {
   "cell_type": "markdown",
   "source": [
    "# Akurasi sebelum di balance"
   ],
   "metadata": {
    "collapsed": false
   },
   "id": "251ab27309249c26"
  },
  {
   "cell_type": "code",
   "execution_count": 42,
   "outputs": [],
   "source": [
    "X_train, X_test, y_train, y_test = train_test_split(X, y, test_size=0.2)"
   ],
   "metadata": {
    "collapsed": false,
    "ExecuteTime": {
     "end_time": "2023-12-06T08:37:33.866711200Z",
     "start_time": "2023-12-06T08:37:33.852398800Z"
    }
   },
   "id": "9a9369a735a2a101"
  },
  {
   "cell_type": "code",
   "execution_count": 43,
   "outputs": [
    {
     "data": {
      "text/plain": "KNeighborsClassifier()",
      "text/html": "<style>#sk-container-id-4 {color: black;}#sk-container-id-4 pre{padding: 0;}#sk-container-id-4 div.sk-toggleable {background-color: white;}#sk-container-id-4 label.sk-toggleable__label {cursor: pointer;display: block;width: 100%;margin-bottom: 0;padding: 0.3em;box-sizing: border-box;text-align: center;}#sk-container-id-4 label.sk-toggleable__label-arrow:before {content: \"▸\";float: left;margin-right: 0.25em;color: #696969;}#sk-container-id-4 label.sk-toggleable__label-arrow:hover:before {color: black;}#sk-container-id-4 div.sk-estimator:hover label.sk-toggleable__label-arrow:before {color: black;}#sk-container-id-4 div.sk-toggleable__content {max-height: 0;max-width: 0;overflow: hidden;text-align: left;background-color: #f0f8ff;}#sk-container-id-4 div.sk-toggleable__content pre {margin: 0.2em;color: black;border-radius: 0.25em;background-color: #f0f8ff;}#sk-container-id-4 input.sk-toggleable__control:checked~div.sk-toggleable__content {max-height: 200px;max-width: 100%;overflow: auto;}#sk-container-id-4 input.sk-toggleable__control:checked~label.sk-toggleable__label-arrow:before {content: \"▾\";}#sk-container-id-4 div.sk-estimator input.sk-toggleable__control:checked~label.sk-toggleable__label {background-color: #d4ebff;}#sk-container-id-4 div.sk-label input.sk-toggleable__control:checked~label.sk-toggleable__label {background-color: #d4ebff;}#sk-container-id-4 input.sk-hidden--visually {border: 0;clip: rect(1px 1px 1px 1px);clip: rect(1px, 1px, 1px, 1px);height: 1px;margin: -1px;overflow: hidden;padding: 0;position: absolute;width: 1px;}#sk-container-id-4 div.sk-estimator {font-family: monospace;background-color: #f0f8ff;border: 1px dotted black;border-radius: 0.25em;box-sizing: border-box;margin-bottom: 0.5em;}#sk-container-id-4 div.sk-estimator:hover {background-color: #d4ebff;}#sk-container-id-4 div.sk-parallel-item::after {content: \"\";width: 100%;border-bottom: 1px solid gray;flex-grow: 1;}#sk-container-id-4 div.sk-label:hover label.sk-toggleable__label {background-color: #d4ebff;}#sk-container-id-4 div.sk-serial::before {content: \"\";position: absolute;border-left: 1px solid gray;box-sizing: border-box;top: 0;bottom: 0;left: 50%;z-index: 0;}#sk-container-id-4 div.sk-serial {display: flex;flex-direction: column;align-items: center;background-color: white;padding-right: 0.2em;padding-left: 0.2em;position: relative;}#sk-container-id-4 div.sk-item {position: relative;z-index: 1;}#sk-container-id-4 div.sk-parallel {display: flex;align-items: stretch;justify-content: center;background-color: white;position: relative;}#sk-container-id-4 div.sk-item::before, #sk-container-id-4 div.sk-parallel-item::before {content: \"\";position: absolute;border-left: 1px solid gray;box-sizing: border-box;top: 0;bottom: 0;left: 50%;z-index: -1;}#sk-container-id-4 div.sk-parallel-item {display: flex;flex-direction: column;z-index: 1;position: relative;background-color: white;}#sk-container-id-4 div.sk-parallel-item:first-child::after {align-self: flex-end;width: 50%;}#sk-container-id-4 div.sk-parallel-item:last-child::after {align-self: flex-start;width: 50%;}#sk-container-id-4 div.sk-parallel-item:only-child::after {width: 0;}#sk-container-id-4 div.sk-dashed-wrapped {border: 1px dashed gray;margin: 0 0.4em 0.5em 0.4em;box-sizing: border-box;padding-bottom: 0.4em;background-color: white;}#sk-container-id-4 div.sk-label label {font-family: monospace;font-weight: bold;display: inline-block;line-height: 1.2em;}#sk-container-id-4 div.sk-label-container {text-align: center;}#sk-container-id-4 div.sk-container {/* jupyter's `normalize.less` sets `[hidden] { display: none; }` but bootstrap.min.css set `[hidden] { display: none !important; }` so we also need the `!important` here to be able to override the default hidden behavior on the sphinx rendered scikit-learn.org. See: https://github.com/scikit-learn/scikit-learn/issues/21755 */display: inline-block !important;position: relative;}#sk-container-id-4 div.sk-text-repr-fallback {display: none;}</style><div id=\"sk-container-id-4\" class=\"sk-top-container\"><div class=\"sk-text-repr-fallback\"><pre>KNeighborsClassifier()</pre><b>In a Jupyter environment, please rerun this cell to show the HTML representation or trust the notebook. <br />On GitHub, the HTML representation is unable to render, please try loading this page with nbviewer.org.</b></div><div class=\"sk-container\" hidden><div class=\"sk-item\"><div class=\"sk-estimator sk-toggleable\"><input class=\"sk-toggleable__control sk-hidden--visually\" id=\"sk-estimator-id-4\" type=\"checkbox\" checked><label for=\"sk-estimator-id-4\" class=\"sk-toggleable__label sk-toggleable__label-arrow\">KNeighborsClassifier</label><div class=\"sk-toggleable__content\"><pre>KNeighborsClassifier()</pre></div></div></div></div></div>"
     },
     "execution_count": 43,
     "metadata": {},
     "output_type": "execute_result"
    }
   ],
   "source": [
    "knn = KNeighborsClassifier(n_neighbors=5)\n",
    "knn.fit(X_train, y_train)"
   ],
   "metadata": {
    "collapsed": false,
    "ExecuteTime": {
     "end_time": "2023-12-06T08:37:33.882512600Z",
     "start_time": "2023-12-06T08:37:33.866711200Z"
    }
   },
   "id": "332f757a34543ca"
  },
  {
   "cell_type": "code",
   "execution_count": 44,
   "outputs": [],
   "source": [
    "knn = KNeighborsClassifier()\n",
    "\n",
    "param_grid = {\n",
    "    'n_neighbors': [3, 5, 7, 9],\n",
    "    'weights': ['uniform', 'distance'],\n",
    "    'p': [1, 2]\n",
    "}\n",
    "grid_search = GridSearchCV(knn, param_grid, cv=5)\n",
    "grid_search.fit(X_train, y_train)\n",
    "\n",
    "best_param = grid_search.best_params_\n",
    "best_scores = grid_search.best_score_\n",
    "\n",
    "best_knn = grid_search.best_estimator_\n",
    "best_knn.fit(X_train, y_train)\n",
    "\n",
    "accuracy2 = best_knn.score(X_test, y_test)"
   ],
   "metadata": {
    "collapsed": false,
    "ExecuteTime": {
     "end_time": "2023-12-06T08:37:36.143424500Z",
     "start_time": "2023-12-06T08:37:33.882512600Z"
    }
   },
   "id": "bf4af8c20a912b6"
  },
  {
   "cell_type": "code",
   "execution_count": 45,
   "outputs": [
    {
     "name": "stdout",
     "output_type": "stream",
     "text": [
      "0.8206229860365198\n"
     ]
    }
   ],
   "source": [
    "print(accuracy2)"
   ],
   "metadata": {
    "collapsed": false,
    "ExecuteTime": {
     "end_time": "2023-12-06T08:37:36.163050200Z",
     "start_time": "2023-12-06T08:37:36.146930700Z"
    }
   },
   "id": "b82b5255434248ea"
  },
  {
   "cell_type": "markdown",
   "source": [
    "# Menentukan klasifikasi dengan SVM Clasifier\n"
   ],
   "metadata": {
    "collapsed": false
   },
   "id": "7b81979fdbf4405a"
  },
  {
   "cell_type": "code",
   "execution_count": 46,
   "outputs": [],
   "source": [
    "X_train,X_test,y_train,y_test = train_test_split(x_balance , y_balance,test_size=0.2)"
   ],
   "metadata": {
    "collapsed": false,
    "ExecuteTime": {
     "end_time": "2023-12-06T08:37:36.163050200Z",
     "start_time": "2023-12-06T08:37:36.149734200Z"
    }
   },
   "id": "712ac364d4546e3d"
  },
  {
   "cell_type": "code",
   "execution_count": 47,
   "outputs": [],
   "source": [
    "svm_clf = svm.SVC(kernel='linear')\n",
    "svm_clf.fit(X_train , y_train)\n",
    "y_pred = svm_clf.predict(X_test)"
   ],
   "metadata": {
    "collapsed": false,
    "ExecuteTime": {
     "end_time": "2023-12-06T08:39:24.890766800Z",
     "start_time": "2023-12-06T08:39:24.344482100Z"
    }
   },
   "id": "c1cf683357053c0"
  },
  {
   "cell_type": "code",
   "execution_count": 49,
   "outputs": [
    {
     "data": {
      "text/plain": "0.6554828150572831"
     },
     "execution_count": 49,
     "metadata": {},
     "output_type": "execute_result"
    }
   ],
   "source": [
    "svm_accuracy = metrics.accuracy_score(y_test , y_pred)\n",
    "svm_accuracy"
   ],
   "metadata": {
    "collapsed": false,
    "ExecuteTime": {
     "end_time": "2023-12-06T09:35:29.837055300Z",
     "start_time": "2023-12-06T09:35:29.789275700Z"
    }
   },
   "id": "2f2d89aa30864d88"
  }
 ],
 "metadata": {
  "kernelspec": {
   "display_name": "Python 3",
   "language": "python",
   "name": "python3"
  },
  "language_info": {
   "codemirror_mode": {
    "name": "ipython",
    "version": 2
   },
   "file_extension": ".py",
   "mimetype": "text/x-python",
   "name": "python",
   "nbconvert_exporter": "python",
   "pygments_lexer": "ipython2",
   "version": "2.7.6"
  }
 },
 "nbformat": 4,
 "nbformat_minor": 5
}
