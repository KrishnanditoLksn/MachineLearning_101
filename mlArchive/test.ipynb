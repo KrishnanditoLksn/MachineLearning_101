{
 "cells": [
  {
   "cell_type": "code",
   "execution_count": 1,
   "id": "initial_id",
   "metadata": {
    "ExecuteTime": {
     "end_time": "2023-12-08T14:50:45.757283600Z",
     "start_time": "2023-12-08T14:50:45.728043500Z"
    },
    "collapsed": true
   },
   "outputs": [
    {
     "name": "stdout",
     "output_type": "stream",
     "text": [
      "   NumericColumn\n",
      "0           1.50\n",
      "1           2.75\n",
      "2           3.00\n",
      "3            NaN\n"
     ]
    }
   ],
   "source": [
    "import  pandas as pd\n",
    "data = {'MixedNumericColumn': ['1.50 1/L', '2.75 2/L', '3.00 3/L', 'non-numeric']}\n",
    "df = pd.DataFrame(data)\n",
    "\n",
    "# Use str.extract to extract the numeric part from the strings\n",
    "df['NumericColumn'] = df['MixedNumericColumn'].str.extract('(\\d+\\.\\d+|\\d+)')\n",
    "\n",
    "# Use pd.to_numeric to convert the extracted values to numeric\n",
    "df['NumericColumn'] = pd.to_numeric(df['NumericColumn'], errors='coerce')\n",
    "\n",
    "# Display the resulting DataFrame\n",
    "print(df[['NumericColumn']])"
   ]
  },
  {
   "cell_type": "code",
   "execution_count": null,
   "id": "8830a46e00f47046",
   "metadata": {
    "ExecuteTime": {
     "end_time": "2023-12-08T14:49:43.284077200Z",
     "start_time": "2023-12-08T14:49:43.166601600Z"
    },
    "collapsed": false
   },
   "outputs": [],
   "source": []
  }
 ],
 "metadata": {
  "kernelspec": {
   "display_name": "Python 3",
   "language": "python",
   "name": "python3"
  },
  "language_info": {
   "codemirror_mode": {
    "name": "ipython",
    "version": 3
   },
   "file_extension": ".py",
   "mimetype": "text/x-python",
   "name": "python",
   "nbconvert_exporter": "python",
   "pygments_lexer": "ipython3",
   "version": "3.10.5"
  }
 },
 "nbformat": 4,
 "nbformat_minor": 5
}
