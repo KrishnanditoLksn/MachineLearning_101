{
 "cells": [
  {
   "cell_type": "code",
   "execution_count": null,
   "id": "initial_id",
   "metadata": {
    "collapsed": true
   },
   "outputs": [],
   "source": [
    "import pandas as pd\n",
    "import seaborn as sns\n",
    "from matplotlib import pyplot as plt\n",
    "from sklearn.preprocessing import LabelEncoder\n",
    "from sklearn.preprocessing import MinMaxScaler\n",
    "from sklearn.preprocessing import StandardScaler\n",
    "\n",
    "df = pd.read_csv('D:\\\\\\\\BelajarML\\\\\\\\dataset\\\\\\\\iris.csv', on_bad_lines='skip')\n",
    "df"
   ]
  },
  {
   "cell_type": "markdown",
   "source": [
    "# Mendeskripsikan data\n"
   ],
   "metadata": {
    "collapsed": false
   },
   "id": "2fd1c8a135e38a37"
  },
  {
   "cell_type": "code",
   "outputs": [],
   "source": [
    "df.describe()\n",
    "df"
   ],
   "metadata": {
    "collapsed": false
   },
   "id": "e13dc00adb9a98ea",
   "execution_count": null
  },
  {
   "cell_type": "markdown",
   "source": [
    "# Menghilangkan Nan"
   ],
   "metadata": {
    "collapsed": false
   },
   "id": "87bb7b0b0702963f"
  },
  {
   "cell_type": "code",
   "outputs": [],
   "source": [
    "df['SepalLength'].dropna()\n"
   ],
   "metadata": {
    "collapsed": false
   },
   "id": "d898865e0911a940",
   "execution_count": null
  },
  {
   "cell_type": "code",
   "outputs": [],
   "source": [
    "df.dtypes"
   ],
   "metadata": {
    "collapsed": false
   },
   "id": "89444806491be661",
   "execution_count": null
  },
  {
   "cell_type": "markdown",
   "source": [
    "# Mengubah tipe data"
   ],
   "metadata": {
    "collapsed": false
   },
   "id": "cb555b08745bfcd5"
  },
  {
   "cell_type": "code",
   "outputs": [],
   "source": [
    "df['SepalLength'] = pd.to_numeric(df['SepalLength'], errors='coerce')\n",
    "df"
   ],
   "metadata": {
    "collapsed": false
   },
   "id": "4cbb9bce31c4b912",
   "execution_count": null
  },
  {
   "cell_type": "code",
   "outputs": [],
   "source": [
    "df.isnull().sum()"
   ],
   "metadata": {
    "collapsed": false
   },
   "id": "80803b8f1425d860",
   "execution_count": null
  },
  {
   "cell_type": "markdown",
   "source": [
    "# Menghilangkan Nan"
   ],
   "metadata": {
    "collapsed": false
   },
   "id": "a8481d751e35d068"
  },
  {
   "cell_type": "code",
   "outputs": [],
   "source": [
    "df.dropna(inplace=True)\n",
    "df"
   ],
   "metadata": {
    "collapsed": false
   },
   "id": "10258034cddfbd8e",
   "execution_count": null
  },
  {
   "cell_type": "code",
   "outputs": [],
   "source": [
    "df['PetalLength'].value_counts()"
   ],
   "metadata": {
    "collapsed": false
   },
   "id": "5fb52a1518474873",
   "execution_count": null
  },
  {
   "cell_type": "markdown",
   "source": [
    "# Mengecek tipe data"
   ],
   "metadata": {
    "collapsed": false
   },
   "id": "73766ab42e05ca63"
  },
  {
   "cell_type": "code",
   "outputs": [],
   "source": [
    "df.dtypes"
   ],
   "metadata": {
    "collapsed": false
   },
   "id": "ddf8baf305e96409",
   "execution_count": null
  },
  {
   "cell_type": "code",
   "outputs": [],
   "source": [
    "df.describe()"
   ],
   "metadata": {
    "collapsed": false
   },
   "id": "bf9795dd4a3faa99",
   "execution_count": null
  },
  {
   "cell_type": "markdown",
   "source": [
    "# Mencari data yang duplikat"
   ],
   "metadata": {
    "collapsed": false
   },
   "id": "bde8689ad5f39373"
  },
  {
   "cell_type": "code",
   "outputs": [],
   "source": [
    "df[df.duplicated()]"
   ],
   "metadata": {
    "collapsed": false
   },
   "id": "431594f573a6692b",
   "execution_count": null
  },
  {
   "cell_type": "markdown",
   "source": [
    "# Hilangkan data yang duplikat"
   ],
   "metadata": {
    "collapsed": false
   },
   "id": "4f581eabe600ce71"
  },
  {
   "cell_type": "code",
   "outputs": [],
   "source": [
    "clean = df.drop_duplicates()\n",
    "clean"
   ],
   "metadata": {
    "collapsed": false
   },
   "id": "53a15fdfdc0bc37b",
   "execution_count": null
  },
  {
   "cell_type": "code",
   "outputs": [],
   "source": [
    "clean[clean.duplicated()]"
   ],
   "metadata": {
    "collapsed": false
   },
   "id": "e8422c56cdc43255",
   "execution_count": null
  },
  {
   "cell_type": "markdown",
   "source": [
    "# Menghilangkan column Species "
   ],
   "metadata": {
    "collapsed": false
   },
   "id": "e3410b5639f3f3e7"
  },
  {
   "cell_type": "code",
   "outputs": [],
   "source": [
    "clean"
   ],
   "metadata": {
    "collapsed": false
   },
   "id": "ba76f128c1de6426",
   "execution_count": null
  },
  {
   "cell_type": "code",
   "outputs": [],
   "source": [
    "clean.shape"
   ],
   "metadata": {
    "collapsed": false
   },
   "id": "153a8ec25e0aa5a0",
   "execution_count": null
  },
  {
   "cell_type": "code",
   "outputs": [],
   "source": [
    "sns.barplot(clean, x='SepalLength', y='PetalWidth')"
   ],
   "metadata": {
    "collapsed": false
   },
   "id": "6f7b9e82c17245e3",
   "execution_count": null
  },
  {
   "cell_type": "markdown",
   "source": [
    "# Mengubah label Species ke dalam tipe angka"
   ],
   "metadata": {
    "collapsed": false
   },
   "id": "3661cf128af1460c"
  },
  {
   "cell_type": "code",
   "outputs": [],
   "source": [
    "le = LabelEncoder()\n",
    "clean['Species'] = le.fit_transform(clean['Species'])\n",
    "clean"
   ],
   "metadata": {
    "collapsed": false
   },
   "id": "73e86a3fa58c54fb",
   "execution_count": null
  },
  {
   "cell_type": "markdown",
   "source": [
    "# Menormalisasikan data dengan Min"
   ],
   "metadata": {
    "collapsed": false
   },
   "id": "5bf0bb52b6be1efb"
  },
  {
   "cell_type": "code",
   "outputs": [],
   "source": [
    "mms = MinMaxScaler()\n",
    "clean[['SepalLength', 'SepalWidth', 'PetalLength', 'PetalWidth', 'Species']] = mms.fit_transform(\n",
    "    clean[['SepalLength', 'SepalWidth', 'PetalLength', 'PetalWidth', 'Species']])\n",
    "clean"
   ],
   "metadata": {
    "collapsed": false
   },
   "id": "c915887a997878a7",
   "execution_count": null
  },
  {
   "cell_type": "markdown",
   "source": [
    "# Menormalisasikan dengan Standard Scaler"
   ],
   "metadata": {
    "collapsed": false
   },
   "id": "7d44a3a6b3452ac0"
  },
  {
   "cell_type": "code",
   "outputs": [],
   "source": [
    "mms = StandardScaler()\n",
    "clean[['SepalLength', 'SepalWidth', 'PetalLength', 'PetalWidth', 'Species']] = mms.fit_transform(\n",
    "    clean[['SepalLength', 'SepalWidth', 'PetalLength', 'PetalWidth', 'Species']])\n",
    "clean"
   ],
   "metadata": {
    "collapsed": false
   },
   "id": "bc2c0162be2c6e3b",
   "execution_count": null
  },
  {
   "cell_type": "code",
   "outputs": [],
   "source": [],
   "metadata": {
    "collapsed": false
   },
   "id": "4975f23aba27400"
  }
 ],
 "metadata": {
  "kernelspec": {
   "display_name": "Python 3",
   "language": "python",
   "name": "python3"
  },
  "language_info": {
   "codemirror_mode": {
    "name": "ipython",
    "version": 2
   },
   "file_extension": ".py",
   "mimetype": "text/x-python",
   "name": "python",
   "nbconvert_exporter": "python",
   "pygments_lexer": "ipython2",
   "version": "2.7.6"
  }
 },
 "nbformat": 4,
 "nbformat_minor": 5
}
