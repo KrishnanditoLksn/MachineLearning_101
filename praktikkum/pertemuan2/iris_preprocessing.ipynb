{
 "cells": [
  {
   "cell_type": "code",
   "execution_count": 209,
   "id": "initial_id",
   "metadata": {
    "collapsed": true,
    "ExecuteTime": {
     "end_time": "2024-03-01T02:17:05.215184700Z",
     "start_time": "2024-03-01T02:17:05.047214800Z"
    }
   },
   "outputs": [
    {
     "data": {
      "text/plain": "    SepalLength  SepalWidth  PetalLength  PetalWidth         Species\n0           5.1         3.5          1.4         0.2     Iris-setosa\n1           4.9         3.0          1.4         0.2     Iris-setosa\n2           4.7         3.2          1.3         0.2     Iris-setosa\n3           4.6         3.1          1.5         0.2     Iris-setosa\n4             5         3.6          1.4         0.2     Iris-setosa\n..          ...         ...          ...         ...             ...\n145         6.7         3.0          5.2         2.3  Iris-virginica\n146         6.3         2.5          5.0         1.9  Iris-virginica\n147         6.5         3.0          5.2         2.0  Iris-virginica\n148         6.2         3.4          5.4         2.3  Iris-virginica\n149         5.9         3.0          5.1         1.8  Iris-virginica\n\n[150 rows x 5 columns]",
      "text/html": "<div>\n<style scoped>\n    .dataframe tbody tr th:only-of-type {\n        vertical-align: middle;\n    }\n\n    .dataframe tbody tr th {\n        vertical-align: top;\n    }\n\n    .dataframe thead th {\n        text-align: right;\n    }\n</style>\n<table border=\"1\" class=\"dataframe\">\n  <thead>\n    <tr style=\"text-align: right;\">\n      <th></th>\n      <th>SepalLength</th>\n      <th>SepalWidth</th>\n      <th>PetalLength</th>\n      <th>PetalWidth</th>\n      <th>Species</th>\n    </tr>\n  </thead>\n  <tbody>\n    <tr>\n      <th>0</th>\n      <td>5.1</td>\n      <td>3.5</td>\n      <td>1.4</td>\n      <td>0.2</td>\n      <td>Iris-setosa</td>\n    </tr>\n    <tr>\n      <th>1</th>\n      <td>4.9</td>\n      <td>3.0</td>\n      <td>1.4</td>\n      <td>0.2</td>\n      <td>Iris-setosa</td>\n    </tr>\n    <tr>\n      <th>2</th>\n      <td>4.7</td>\n      <td>3.2</td>\n      <td>1.3</td>\n      <td>0.2</td>\n      <td>Iris-setosa</td>\n    </tr>\n    <tr>\n      <th>3</th>\n      <td>4.6</td>\n      <td>3.1</td>\n      <td>1.5</td>\n      <td>0.2</td>\n      <td>Iris-setosa</td>\n    </tr>\n    <tr>\n      <th>4</th>\n      <td>5</td>\n      <td>3.6</td>\n      <td>1.4</td>\n      <td>0.2</td>\n      <td>Iris-setosa</td>\n    </tr>\n    <tr>\n      <th>...</th>\n      <td>...</td>\n      <td>...</td>\n      <td>...</td>\n      <td>...</td>\n      <td>...</td>\n    </tr>\n    <tr>\n      <th>145</th>\n      <td>6.7</td>\n      <td>3.0</td>\n      <td>5.2</td>\n      <td>2.3</td>\n      <td>Iris-virginica</td>\n    </tr>\n    <tr>\n      <th>146</th>\n      <td>6.3</td>\n      <td>2.5</td>\n      <td>5.0</td>\n      <td>1.9</td>\n      <td>Iris-virginica</td>\n    </tr>\n    <tr>\n      <th>147</th>\n      <td>6.5</td>\n      <td>3.0</td>\n      <td>5.2</td>\n      <td>2.0</td>\n      <td>Iris-virginica</td>\n    </tr>\n    <tr>\n      <th>148</th>\n      <td>6.2</td>\n      <td>3.4</td>\n      <td>5.4</td>\n      <td>2.3</td>\n      <td>Iris-virginica</td>\n    </tr>\n    <tr>\n      <th>149</th>\n      <td>5.9</td>\n      <td>3.0</td>\n      <td>5.1</td>\n      <td>1.8</td>\n      <td>Iris-virginica</td>\n    </tr>\n  </tbody>\n</table>\n<p>150 rows × 5 columns</p>\n</div>"
     },
     "execution_count": 209,
     "metadata": {},
     "output_type": "execute_result"
    }
   ],
   "source": [
    "import pandas as pd\n",
    "import seaborn as sns\n",
    "from matplotlib import pyplot as plt\n",
    "from sklearn.preprocessing import LabelEncoder\n",
    "from sklearn.preprocessing import MinMaxScaler\n",
    "from sklearn.preprocessing import StandardScaler\n",
    "\n",
    "df = pd.read_csv('D:\\\\\\\\BelajarML\\\\\\\\dataset\\\\\\\\iris.csv', on_bad_lines='skip')\n",
    "df"
   ]
  },
  {
   "cell_type": "markdown",
   "source": [
    "# Mendeskripsikan data\n"
   ],
   "metadata": {
    "collapsed": false
   },
   "id": "2fd1c8a135e38a37"
  },
  {
   "cell_type": "code",
   "outputs": [
    {
     "data": {
      "text/plain": "    SepalLength  SepalWidth  PetalLength  PetalWidth         Species\n0           5.1         3.5          1.4         0.2     Iris-setosa\n1           4.9         3.0          1.4         0.2     Iris-setosa\n2           4.7         3.2          1.3         0.2     Iris-setosa\n3           4.6         3.1          1.5         0.2     Iris-setosa\n4             5         3.6          1.4         0.2     Iris-setosa\n..          ...         ...          ...         ...             ...\n145         6.7         3.0          5.2         2.3  Iris-virginica\n146         6.3         2.5          5.0         1.9  Iris-virginica\n147         6.5         3.0          5.2         2.0  Iris-virginica\n148         6.2         3.4          5.4         2.3  Iris-virginica\n149         5.9         3.0          5.1         1.8  Iris-virginica\n\n[150 rows x 5 columns]",
      "text/html": "<div>\n<style scoped>\n    .dataframe tbody tr th:only-of-type {\n        vertical-align: middle;\n    }\n\n    .dataframe tbody tr th {\n        vertical-align: top;\n    }\n\n    .dataframe thead th {\n        text-align: right;\n    }\n</style>\n<table border=\"1\" class=\"dataframe\">\n  <thead>\n    <tr style=\"text-align: right;\">\n      <th></th>\n      <th>SepalLength</th>\n      <th>SepalWidth</th>\n      <th>PetalLength</th>\n      <th>PetalWidth</th>\n      <th>Species</th>\n    </tr>\n  </thead>\n  <tbody>\n    <tr>\n      <th>0</th>\n      <td>5.1</td>\n      <td>3.5</td>\n      <td>1.4</td>\n      <td>0.2</td>\n      <td>Iris-setosa</td>\n    </tr>\n    <tr>\n      <th>1</th>\n      <td>4.9</td>\n      <td>3.0</td>\n      <td>1.4</td>\n      <td>0.2</td>\n      <td>Iris-setosa</td>\n    </tr>\n    <tr>\n      <th>2</th>\n      <td>4.7</td>\n      <td>3.2</td>\n      <td>1.3</td>\n      <td>0.2</td>\n      <td>Iris-setosa</td>\n    </tr>\n    <tr>\n      <th>3</th>\n      <td>4.6</td>\n      <td>3.1</td>\n      <td>1.5</td>\n      <td>0.2</td>\n      <td>Iris-setosa</td>\n    </tr>\n    <tr>\n      <th>4</th>\n      <td>5</td>\n      <td>3.6</td>\n      <td>1.4</td>\n      <td>0.2</td>\n      <td>Iris-setosa</td>\n    </tr>\n    <tr>\n      <th>...</th>\n      <td>...</td>\n      <td>...</td>\n      <td>...</td>\n      <td>...</td>\n      <td>...</td>\n    </tr>\n    <tr>\n      <th>145</th>\n      <td>6.7</td>\n      <td>3.0</td>\n      <td>5.2</td>\n      <td>2.3</td>\n      <td>Iris-virginica</td>\n    </tr>\n    <tr>\n      <th>146</th>\n      <td>6.3</td>\n      <td>2.5</td>\n      <td>5.0</td>\n      <td>1.9</td>\n      <td>Iris-virginica</td>\n    </tr>\n    <tr>\n      <th>147</th>\n      <td>6.5</td>\n      <td>3.0</td>\n      <td>5.2</td>\n      <td>2.0</td>\n      <td>Iris-virginica</td>\n    </tr>\n    <tr>\n      <th>148</th>\n      <td>6.2</td>\n      <td>3.4</td>\n      <td>5.4</td>\n      <td>2.3</td>\n      <td>Iris-virginica</td>\n    </tr>\n    <tr>\n      <th>149</th>\n      <td>5.9</td>\n      <td>3.0</td>\n      <td>5.1</td>\n      <td>1.8</td>\n      <td>Iris-virginica</td>\n    </tr>\n  </tbody>\n</table>\n<p>150 rows × 5 columns</p>\n</div>"
     },
     "execution_count": 210,
     "metadata": {},
     "output_type": "execute_result"
    }
   ],
   "source": [
    "df.describe()\n",
    "df"
   ],
   "metadata": {
    "collapsed": false,
    "ExecuteTime": {
     "end_time": "2024-03-01T02:17:05.252029Z",
     "start_time": "2024-03-01T02:17:05.218456700Z"
    }
   },
   "id": "e13dc00adb9a98ea",
   "execution_count": 210
  },
  {
   "cell_type": "markdown",
   "source": [
    "# Menghilangkan Nan"
   ],
   "metadata": {
    "collapsed": false
   },
   "id": "87bb7b0b0702963f"
  },
  {
   "cell_type": "code",
   "outputs": [
    {
     "data": {
      "text/plain": "0      5.1\n1      4.9\n2      4.7\n3      4.6\n4        5\n      ... \n145    6.7\n146    6.3\n147    6.5\n148    6.2\n149    5.9\nName: SepalLength, Length: 150, dtype: object"
     },
     "execution_count": 211,
     "metadata": {},
     "output_type": "execute_result"
    }
   ],
   "source": [
    "df['SepalLength'].dropna()\n"
   ],
   "metadata": {
    "collapsed": false,
    "ExecuteTime": {
     "end_time": "2024-03-01T02:17:05.320572300Z",
     "start_time": "2024-03-01T02:17:05.238587100Z"
    }
   },
   "id": "d898865e0911a940",
   "execution_count": 211
  },
  {
   "cell_type": "code",
   "outputs": [
    {
     "data": {
      "text/plain": "SepalLength     object\nSepalWidth     float64\nPetalLength    float64\nPetalWidth     float64\nSpecies         object\ndtype: object"
     },
     "execution_count": 212,
     "metadata": {},
     "output_type": "execute_result"
    }
   ],
   "source": [
    "df.dtypes"
   ],
   "metadata": {
    "collapsed": false,
    "ExecuteTime": {
     "end_time": "2024-03-01T02:17:05.355521400Z",
     "start_time": "2024-03-01T02:17:05.259851300Z"
    }
   },
   "id": "89444806491be661",
   "execution_count": 212
  },
  {
   "cell_type": "markdown",
   "source": [
    "# Mengubah tipe data"
   ],
   "metadata": {
    "collapsed": false
   },
   "id": "cb555b08745bfcd5"
  },
  {
   "cell_type": "code",
   "outputs": [
    {
     "data": {
      "text/plain": "     SepalLength  SepalWidth  PetalLength  PetalWidth         Species\n0            5.1         3.5          1.4         0.2     Iris-setosa\n1            4.9         3.0          1.4         0.2     Iris-setosa\n2            4.7         3.2          1.3         0.2     Iris-setosa\n3            4.6         3.1          1.5         0.2     Iris-setosa\n4            5.0         3.6          1.4         0.2     Iris-setosa\n..           ...         ...          ...         ...             ...\n145          6.7         3.0          5.2         2.3  Iris-virginica\n146          6.3         2.5          5.0         1.9  Iris-virginica\n147          6.5         3.0          5.2         2.0  Iris-virginica\n148          6.2         3.4          5.4         2.3  Iris-virginica\n149          5.9         3.0          5.1         1.8  Iris-virginica\n\n[150 rows x 5 columns]",
      "text/html": "<div>\n<style scoped>\n    .dataframe tbody tr th:only-of-type {\n        vertical-align: middle;\n    }\n\n    .dataframe tbody tr th {\n        vertical-align: top;\n    }\n\n    .dataframe thead th {\n        text-align: right;\n    }\n</style>\n<table border=\"1\" class=\"dataframe\">\n  <thead>\n    <tr style=\"text-align: right;\">\n      <th></th>\n      <th>SepalLength</th>\n      <th>SepalWidth</th>\n      <th>PetalLength</th>\n      <th>PetalWidth</th>\n      <th>Species</th>\n    </tr>\n  </thead>\n  <tbody>\n    <tr>\n      <th>0</th>\n      <td>5.1</td>\n      <td>3.5</td>\n      <td>1.4</td>\n      <td>0.2</td>\n      <td>Iris-setosa</td>\n    </tr>\n    <tr>\n      <th>1</th>\n      <td>4.9</td>\n      <td>3.0</td>\n      <td>1.4</td>\n      <td>0.2</td>\n      <td>Iris-setosa</td>\n    </tr>\n    <tr>\n      <th>2</th>\n      <td>4.7</td>\n      <td>3.2</td>\n      <td>1.3</td>\n      <td>0.2</td>\n      <td>Iris-setosa</td>\n    </tr>\n    <tr>\n      <th>3</th>\n      <td>4.6</td>\n      <td>3.1</td>\n      <td>1.5</td>\n      <td>0.2</td>\n      <td>Iris-setosa</td>\n    </tr>\n    <tr>\n      <th>4</th>\n      <td>5.0</td>\n      <td>3.6</td>\n      <td>1.4</td>\n      <td>0.2</td>\n      <td>Iris-setosa</td>\n    </tr>\n    <tr>\n      <th>...</th>\n      <td>...</td>\n      <td>...</td>\n      <td>...</td>\n      <td>...</td>\n      <td>...</td>\n    </tr>\n    <tr>\n      <th>145</th>\n      <td>6.7</td>\n      <td>3.0</td>\n      <td>5.2</td>\n      <td>2.3</td>\n      <td>Iris-virginica</td>\n    </tr>\n    <tr>\n      <th>146</th>\n      <td>6.3</td>\n      <td>2.5</td>\n      <td>5.0</td>\n      <td>1.9</td>\n      <td>Iris-virginica</td>\n    </tr>\n    <tr>\n      <th>147</th>\n      <td>6.5</td>\n      <td>3.0</td>\n      <td>5.2</td>\n      <td>2.0</td>\n      <td>Iris-virginica</td>\n    </tr>\n    <tr>\n      <th>148</th>\n      <td>6.2</td>\n      <td>3.4</td>\n      <td>5.4</td>\n      <td>2.3</td>\n      <td>Iris-virginica</td>\n    </tr>\n    <tr>\n      <th>149</th>\n      <td>5.9</td>\n      <td>3.0</td>\n      <td>5.1</td>\n      <td>1.8</td>\n      <td>Iris-virginica</td>\n    </tr>\n  </tbody>\n</table>\n<p>150 rows × 5 columns</p>\n</div>"
     },
     "execution_count": 213,
     "metadata": {},
     "output_type": "execute_result"
    }
   ],
   "source": [
    "df['SepalLength'] = pd.to_numeric(df['SepalLength'], errors='coerce')\n",
    "df"
   ],
   "metadata": {
    "collapsed": false,
    "ExecuteTime": {
     "end_time": "2024-03-01T02:17:05.513438200Z",
     "start_time": "2024-03-01T02:17:05.329427500Z"
    }
   },
   "id": "4cbb9bce31c4b912",
   "execution_count": 213
  },
  {
   "cell_type": "code",
   "outputs": [
    {
     "data": {
      "text/plain": "SepalLength    1\nSepalWidth     2\nPetalLength    2\nPetalWidth     0\nSpecies        0\ndtype: int64"
     },
     "execution_count": 214,
     "metadata": {},
     "output_type": "execute_result"
    }
   ],
   "source": [
    "df.isnull().sum()"
   ],
   "metadata": {
    "collapsed": false,
    "ExecuteTime": {
     "end_time": "2024-03-01T02:17:05.618077800Z",
     "start_time": "2024-03-01T02:17:05.478574100Z"
    }
   },
   "id": "80803b8f1425d860",
   "execution_count": 214
  },
  {
   "cell_type": "markdown",
   "source": [
    "# Menghilangkan Nan"
   ],
   "metadata": {
    "collapsed": false
   },
   "id": "a8481d751e35d068"
  },
  {
   "cell_type": "code",
   "outputs": [
    {
     "data": {
      "text/plain": "     SepalLength  SepalWidth  PetalLength  PetalWidth         Species\n0            5.1         3.5          1.4         0.2     Iris-setosa\n1            4.9         3.0          1.4         0.2     Iris-setosa\n2            4.7         3.2          1.3         0.2     Iris-setosa\n3            4.6         3.1          1.5         0.2     Iris-setosa\n4            5.0         3.6          1.4         0.2     Iris-setosa\n..           ...         ...          ...         ...             ...\n145          6.7         3.0          5.2         2.3  Iris-virginica\n146          6.3         2.5          5.0         1.9  Iris-virginica\n147          6.5         3.0          5.2         2.0  Iris-virginica\n148          6.2         3.4          5.4         2.3  Iris-virginica\n149          5.9         3.0          5.1         1.8  Iris-virginica\n\n[145 rows x 5 columns]",
      "text/html": "<div>\n<style scoped>\n    .dataframe tbody tr th:only-of-type {\n        vertical-align: middle;\n    }\n\n    .dataframe tbody tr th {\n        vertical-align: top;\n    }\n\n    .dataframe thead th {\n        text-align: right;\n    }\n</style>\n<table border=\"1\" class=\"dataframe\">\n  <thead>\n    <tr style=\"text-align: right;\">\n      <th></th>\n      <th>SepalLength</th>\n      <th>SepalWidth</th>\n      <th>PetalLength</th>\n      <th>PetalWidth</th>\n      <th>Species</th>\n    </tr>\n  </thead>\n  <tbody>\n    <tr>\n      <th>0</th>\n      <td>5.1</td>\n      <td>3.5</td>\n      <td>1.4</td>\n      <td>0.2</td>\n      <td>Iris-setosa</td>\n    </tr>\n    <tr>\n      <th>1</th>\n      <td>4.9</td>\n      <td>3.0</td>\n      <td>1.4</td>\n      <td>0.2</td>\n      <td>Iris-setosa</td>\n    </tr>\n    <tr>\n      <th>2</th>\n      <td>4.7</td>\n      <td>3.2</td>\n      <td>1.3</td>\n      <td>0.2</td>\n      <td>Iris-setosa</td>\n    </tr>\n    <tr>\n      <th>3</th>\n      <td>4.6</td>\n      <td>3.1</td>\n      <td>1.5</td>\n      <td>0.2</td>\n      <td>Iris-setosa</td>\n    </tr>\n    <tr>\n      <th>4</th>\n      <td>5.0</td>\n      <td>3.6</td>\n      <td>1.4</td>\n      <td>0.2</td>\n      <td>Iris-setosa</td>\n    </tr>\n    <tr>\n      <th>...</th>\n      <td>...</td>\n      <td>...</td>\n      <td>...</td>\n      <td>...</td>\n      <td>...</td>\n    </tr>\n    <tr>\n      <th>145</th>\n      <td>6.7</td>\n      <td>3.0</td>\n      <td>5.2</td>\n      <td>2.3</td>\n      <td>Iris-virginica</td>\n    </tr>\n    <tr>\n      <th>146</th>\n      <td>6.3</td>\n      <td>2.5</td>\n      <td>5.0</td>\n      <td>1.9</td>\n      <td>Iris-virginica</td>\n    </tr>\n    <tr>\n      <th>147</th>\n      <td>6.5</td>\n      <td>3.0</td>\n      <td>5.2</td>\n      <td>2.0</td>\n      <td>Iris-virginica</td>\n    </tr>\n    <tr>\n      <th>148</th>\n      <td>6.2</td>\n      <td>3.4</td>\n      <td>5.4</td>\n      <td>2.3</td>\n      <td>Iris-virginica</td>\n    </tr>\n    <tr>\n      <th>149</th>\n      <td>5.9</td>\n      <td>3.0</td>\n      <td>5.1</td>\n      <td>1.8</td>\n      <td>Iris-virginica</td>\n    </tr>\n  </tbody>\n</table>\n<p>145 rows × 5 columns</p>\n</div>"
     },
     "execution_count": 215,
     "metadata": {},
     "output_type": "execute_result"
    }
   ],
   "source": [
    "df.dropna(inplace=True)\n",
    "df"
   ],
   "metadata": {
    "collapsed": false,
    "ExecuteTime": {
     "end_time": "2024-03-01T02:17:05.701442800Z",
     "start_time": "2024-03-01T02:17:05.630066400Z"
    }
   },
   "id": "10258034cddfbd8e",
   "execution_count": 215
  },
  {
   "cell_type": "code",
   "outputs": [
    {
     "data": {
      "text/plain": "PetalLength\n1.5    14\n1.4    11\n5.1     8\n1.3     7\n4.5     7\n5.6     6\n4.0     5\n1.6     5\n4.7     5\n4.9     5\n4.4     4\n4.2     4\n4.8     4\n1.7     4\n4.6     3\n3.9     3\n5.7     3\n5.5     3\n4.1     3\n6.1     3\n5.0     3\n5.8     3\n3.3     2\n5.4     2\n6.7     2\n5.3     2\n5.9     2\n6.0     2\n4.3     2\n1.2     2\n1.9     2\n3.5     2\n5.2     2\n3.0     1\n1.1     1\n3.7     1\n3.8     1\n6.6     1\n6.3     1\n1.0     1\n3.6     1\n6.9     1\n6.4     1\nName: count, dtype: int64"
     },
     "execution_count": 216,
     "metadata": {},
     "output_type": "execute_result"
    }
   ],
   "source": [
    "df['PetalLength'].value_counts()"
   ],
   "metadata": {
    "collapsed": false,
    "ExecuteTime": {
     "end_time": "2024-03-01T02:17:05.841031300Z",
     "start_time": "2024-03-01T02:17:05.677154500Z"
    }
   },
   "id": "5fb52a1518474873",
   "execution_count": 216
  },
  {
   "cell_type": "markdown",
   "source": [
    "# Mengecek tipe data"
   ],
   "metadata": {
    "collapsed": false
   },
   "id": "73766ab42e05ca63"
  },
  {
   "cell_type": "code",
   "outputs": [
    {
     "data": {
      "text/plain": "SepalLength    float64\nSepalWidth     float64\nPetalLength    float64\nPetalWidth     float64\nSpecies         object\ndtype: object"
     },
     "execution_count": 217,
     "metadata": {},
     "output_type": "execute_result"
    }
   ],
   "source": [
    "df.dtypes"
   ],
   "metadata": {
    "collapsed": false,
    "ExecuteTime": {
     "end_time": "2024-03-01T02:17:05.885892200Z",
     "start_time": "2024-03-01T02:17:05.762974Z"
    }
   },
   "id": "ddf8baf305e96409",
   "execution_count": 217
  },
  {
   "cell_type": "code",
   "outputs": [
    {
     "data": {
      "text/plain": "       SepalLength  SepalWidth  PetalLength  PetalWidth\ncount   145.000000   145.00000   145.000000  145.000000\nmean      5.865517     3.06069     3.791034    1.214483\nstd       0.829104     0.43514     1.761349    0.762669\nmin       4.300000     2.00000     1.000000    0.100000\n25%       5.100000     2.80000     1.600000    0.300000\n50%       5.800000     3.00000     4.400000    1.300000\n75%       6.400000     3.30000     5.100000    1.800000\nmax       7.900000     4.40000     6.900000    2.500000",
      "text/html": "<div>\n<style scoped>\n    .dataframe tbody tr th:only-of-type {\n        vertical-align: middle;\n    }\n\n    .dataframe tbody tr th {\n        vertical-align: top;\n    }\n\n    .dataframe thead th {\n        text-align: right;\n    }\n</style>\n<table border=\"1\" class=\"dataframe\">\n  <thead>\n    <tr style=\"text-align: right;\">\n      <th></th>\n      <th>SepalLength</th>\n      <th>SepalWidth</th>\n      <th>PetalLength</th>\n      <th>PetalWidth</th>\n    </tr>\n  </thead>\n  <tbody>\n    <tr>\n      <th>count</th>\n      <td>145.000000</td>\n      <td>145.00000</td>\n      <td>145.000000</td>\n      <td>145.000000</td>\n    </tr>\n    <tr>\n      <th>mean</th>\n      <td>5.865517</td>\n      <td>3.06069</td>\n      <td>3.791034</td>\n      <td>1.214483</td>\n    </tr>\n    <tr>\n      <th>std</th>\n      <td>0.829104</td>\n      <td>0.43514</td>\n      <td>1.761349</td>\n      <td>0.762669</td>\n    </tr>\n    <tr>\n      <th>min</th>\n      <td>4.300000</td>\n      <td>2.00000</td>\n      <td>1.000000</td>\n      <td>0.100000</td>\n    </tr>\n    <tr>\n      <th>25%</th>\n      <td>5.100000</td>\n      <td>2.80000</td>\n      <td>1.600000</td>\n      <td>0.300000</td>\n    </tr>\n    <tr>\n      <th>50%</th>\n      <td>5.800000</td>\n      <td>3.00000</td>\n      <td>4.400000</td>\n      <td>1.300000</td>\n    </tr>\n    <tr>\n      <th>75%</th>\n      <td>6.400000</td>\n      <td>3.30000</td>\n      <td>5.100000</td>\n      <td>1.800000</td>\n    </tr>\n    <tr>\n      <th>max</th>\n      <td>7.900000</td>\n      <td>4.40000</td>\n      <td>6.900000</td>\n      <td>2.500000</td>\n    </tr>\n  </tbody>\n</table>\n</div>"
     },
     "execution_count": 218,
     "metadata": {},
     "output_type": "execute_result"
    }
   ],
   "source": [
    "df.describe()"
   ],
   "metadata": {
    "collapsed": false,
    "ExecuteTime": {
     "end_time": "2024-03-01T02:17:06.031889900Z",
     "start_time": "2024-03-01T02:17:05.892127700Z"
    }
   },
   "id": "bf9795dd4a3faa99",
   "execution_count": 218
  },
  {
   "cell_type": "markdown",
   "source": [
    "# Mencari data yang duplikat"
   ],
   "metadata": {
    "collapsed": false
   },
   "id": "bde8689ad5f39373"
  },
  {
   "cell_type": "code",
   "outputs": [
    {
     "data": {
      "text/plain": "     SepalLength  SepalWidth  PetalLength  PetalWidth         Species\n34           4.9         3.1          1.5         0.1     Iris-setosa\n37           4.9         3.1          1.5         0.1     Iris-setosa\n142          5.8         2.7          5.1         1.9  Iris-virginica",
      "text/html": "<div>\n<style scoped>\n    .dataframe tbody tr th:only-of-type {\n        vertical-align: middle;\n    }\n\n    .dataframe tbody tr th {\n        vertical-align: top;\n    }\n\n    .dataframe thead th {\n        text-align: right;\n    }\n</style>\n<table border=\"1\" class=\"dataframe\">\n  <thead>\n    <tr style=\"text-align: right;\">\n      <th></th>\n      <th>SepalLength</th>\n      <th>SepalWidth</th>\n      <th>PetalLength</th>\n      <th>PetalWidth</th>\n      <th>Species</th>\n    </tr>\n  </thead>\n  <tbody>\n    <tr>\n      <th>34</th>\n      <td>4.9</td>\n      <td>3.1</td>\n      <td>1.5</td>\n      <td>0.1</td>\n      <td>Iris-setosa</td>\n    </tr>\n    <tr>\n      <th>37</th>\n      <td>4.9</td>\n      <td>3.1</td>\n      <td>1.5</td>\n      <td>0.1</td>\n      <td>Iris-setosa</td>\n    </tr>\n    <tr>\n      <th>142</th>\n      <td>5.8</td>\n      <td>2.7</td>\n      <td>5.1</td>\n      <td>1.9</td>\n      <td>Iris-virginica</td>\n    </tr>\n  </tbody>\n</table>\n</div>"
     },
     "execution_count": 219,
     "metadata": {},
     "output_type": "execute_result"
    }
   ],
   "source": [
    "df[df.duplicated()]"
   ],
   "metadata": {
    "collapsed": false,
    "ExecuteTime": {
     "end_time": "2024-03-01T02:17:06.142671Z",
     "start_time": "2024-03-01T02:17:06.035883700Z"
    }
   },
   "id": "431594f573a6692b",
   "execution_count": 219
  },
  {
   "cell_type": "markdown",
   "source": [
    "# Hilangkan data yang duplikat"
   ],
   "metadata": {
    "collapsed": false
   },
   "id": "4f581eabe600ce71"
  },
  {
   "cell_type": "code",
   "outputs": [
    {
     "data": {
      "text/plain": "     SepalLength  SepalWidth  PetalLength  PetalWidth         Species\n0            5.1         3.5          1.4         0.2     Iris-setosa\n1            4.9         3.0          1.4         0.2     Iris-setosa\n2            4.7         3.2          1.3         0.2     Iris-setosa\n3            4.6         3.1          1.5         0.2     Iris-setosa\n4            5.0         3.6          1.4         0.2     Iris-setosa\n..           ...         ...          ...         ...             ...\n145          6.7         3.0          5.2         2.3  Iris-virginica\n146          6.3         2.5          5.0         1.9  Iris-virginica\n147          6.5         3.0          5.2         2.0  Iris-virginica\n148          6.2         3.4          5.4         2.3  Iris-virginica\n149          5.9         3.0          5.1         1.8  Iris-virginica\n\n[142 rows x 5 columns]",
      "text/html": "<div>\n<style scoped>\n    .dataframe tbody tr th:only-of-type {\n        vertical-align: middle;\n    }\n\n    .dataframe tbody tr th {\n        vertical-align: top;\n    }\n\n    .dataframe thead th {\n        text-align: right;\n    }\n</style>\n<table border=\"1\" class=\"dataframe\">\n  <thead>\n    <tr style=\"text-align: right;\">\n      <th></th>\n      <th>SepalLength</th>\n      <th>SepalWidth</th>\n      <th>PetalLength</th>\n      <th>PetalWidth</th>\n      <th>Species</th>\n    </tr>\n  </thead>\n  <tbody>\n    <tr>\n      <th>0</th>\n      <td>5.1</td>\n      <td>3.5</td>\n      <td>1.4</td>\n      <td>0.2</td>\n      <td>Iris-setosa</td>\n    </tr>\n    <tr>\n      <th>1</th>\n      <td>4.9</td>\n      <td>3.0</td>\n      <td>1.4</td>\n      <td>0.2</td>\n      <td>Iris-setosa</td>\n    </tr>\n    <tr>\n      <th>2</th>\n      <td>4.7</td>\n      <td>3.2</td>\n      <td>1.3</td>\n      <td>0.2</td>\n      <td>Iris-setosa</td>\n    </tr>\n    <tr>\n      <th>3</th>\n      <td>4.6</td>\n      <td>3.1</td>\n      <td>1.5</td>\n      <td>0.2</td>\n      <td>Iris-setosa</td>\n    </tr>\n    <tr>\n      <th>4</th>\n      <td>5.0</td>\n      <td>3.6</td>\n      <td>1.4</td>\n      <td>0.2</td>\n      <td>Iris-setosa</td>\n    </tr>\n    <tr>\n      <th>...</th>\n      <td>...</td>\n      <td>...</td>\n      <td>...</td>\n      <td>...</td>\n      <td>...</td>\n    </tr>\n    <tr>\n      <th>145</th>\n      <td>6.7</td>\n      <td>3.0</td>\n      <td>5.2</td>\n      <td>2.3</td>\n      <td>Iris-virginica</td>\n    </tr>\n    <tr>\n      <th>146</th>\n      <td>6.3</td>\n      <td>2.5</td>\n      <td>5.0</td>\n      <td>1.9</td>\n      <td>Iris-virginica</td>\n    </tr>\n    <tr>\n      <th>147</th>\n      <td>6.5</td>\n      <td>3.0</td>\n      <td>5.2</td>\n      <td>2.0</td>\n      <td>Iris-virginica</td>\n    </tr>\n    <tr>\n      <th>148</th>\n      <td>6.2</td>\n      <td>3.4</td>\n      <td>5.4</td>\n      <td>2.3</td>\n      <td>Iris-virginica</td>\n    </tr>\n    <tr>\n      <th>149</th>\n      <td>5.9</td>\n      <td>3.0</td>\n      <td>5.1</td>\n      <td>1.8</td>\n      <td>Iris-virginica</td>\n    </tr>\n  </tbody>\n</table>\n<p>142 rows × 5 columns</p>\n</div>"
     },
     "execution_count": 220,
     "metadata": {},
     "output_type": "execute_result"
    }
   ],
   "source": [
    "clean = df.drop_duplicates()\n",
    "clean"
   ],
   "metadata": {
    "collapsed": false,
    "ExecuteTime": {
     "end_time": "2024-03-01T02:17:06.219747800Z",
     "start_time": "2024-03-01T02:17:06.085036200Z"
    }
   },
   "id": "53a15fdfdc0bc37b",
   "execution_count": 220
  },
  {
   "cell_type": "code",
   "outputs": [
    {
     "data": {
      "text/plain": "Empty DataFrame\nColumns: [SepalLength, SepalWidth, PetalLength, PetalWidth, Species]\nIndex: []",
      "text/html": "<div>\n<style scoped>\n    .dataframe tbody tr th:only-of-type {\n        vertical-align: middle;\n    }\n\n    .dataframe tbody tr th {\n        vertical-align: top;\n    }\n\n    .dataframe thead th {\n        text-align: right;\n    }\n</style>\n<table border=\"1\" class=\"dataframe\">\n  <thead>\n    <tr style=\"text-align: right;\">\n      <th></th>\n      <th>SepalLength</th>\n      <th>SepalWidth</th>\n      <th>PetalLength</th>\n      <th>PetalWidth</th>\n      <th>Species</th>\n    </tr>\n  </thead>\n  <tbody>\n  </tbody>\n</table>\n</div>"
     },
     "execution_count": 221,
     "metadata": {},
     "output_type": "execute_result"
    }
   ],
   "source": [
    "clean[clean.duplicated()]"
   ],
   "metadata": {
    "collapsed": false,
    "ExecuteTime": {
     "end_time": "2024-03-01T02:17:06.274221100Z",
     "start_time": "2024-03-01T02:17:06.186730Z"
    }
   },
   "id": "e8422c56cdc43255",
   "execution_count": 221
  },
  {
   "cell_type": "markdown",
   "source": [
    "# Menghilangkan column Species "
   ],
   "metadata": {
    "collapsed": false
   },
   "id": "e3410b5639f3f3e7"
  },
  {
   "cell_type": "code",
   "outputs": [
    {
     "data": {
      "text/plain": "     SepalLength  SepalWidth  PetalLength  PetalWidth         Species\n0            5.1         3.5          1.4         0.2     Iris-setosa\n1            4.9         3.0          1.4         0.2     Iris-setosa\n2            4.7         3.2          1.3         0.2     Iris-setosa\n3            4.6         3.1          1.5         0.2     Iris-setosa\n4            5.0         3.6          1.4         0.2     Iris-setosa\n..           ...         ...          ...         ...             ...\n145          6.7         3.0          5.2         2.3  Iris-virginica\n146          6.3         2.5          5.0         1.9  Iris-virginica\n147          6.5         3.0          5.2         2.0  Iris-virginica\n148          6.2         3.4          5.4         2.3  Iris-virginica\n149          5.9         3.0          5.1         1.8  Iris-virginica\n\n[142 rows x 5 columns]",
      "text/html": "<div>\n<style scoped>\n    .dataframe tbody tr th:only-of-type {\n        vertical-align: middle;\n    }\n\n    .dataframe tbody tr th {\n        vertical-align: top;\n    }\n\n    .dataframe thead th {\n        text-align: right;\n    }\n</style>\n<table border=\"1\" class=\"dataframe\">\n  <thead>\n    <tr style=\"text-align: right;\">\n      <th></th>\n      <th>SepalLength</th>\n      <th>SepalWidth</th>\n      <th>PetalLength</th>\n      <th>PetalWidth</th>\n      <th>Species</th>\n    </tr>\n  </thead>\n  <tbody>\n    <tr>\n      <th>0</th>\n      <td>5.1</td>\n      <td>3.5</td>\n      <td>1.4</td>\n      <td>0.2</td>\n      <td>Iris-setosa</td>\n    </tr>\n    <tr>\n      <th>1</th>\n      <td>4.9</td>\n      <td>3.0</td>\n      <td>1.4</td>\n      <td>0.2</td>\n      <td>Iris-setosa</td>\n    </tr>\n    <tr>\n      <th>2</th>\n      <td>4.7</td>\n      <td>3.2</td>\n      <td>1.3</td>\n      <td>0.2</td>\n      <td>Iris-setosa</td>\n    </tr>\n    <tr>\n      <th>3</th>\n      <td>4.6</td>\n      <td>3.1</td>\n      <td>1.5</td>\n      <td>0.2</td>\n      <td>Iris-setosa</td>\n    </tr>\n    <tr>\n      <th>4</th>\n      <td>5.0</td>\n      <td>3.6</td>\n      <td>1.4</td>\n      <td>0.2</td>\n      <td>Iris-setosa</td>\n    </tr>\n    <tr>\n      <th>...</th>\n      <td>...</td>\n      <td>...</td>\n      <td>...</td>\n      <td>...</td>\n      <td>...</td>\n    </tr>\n    <tr>\n      <th>145</th>\n      <td>6.7</td>\n      <td>3.0</td>\n      <td>5.2</td>\n      <td>2.3</td>\n      <td>Iris-virginica</td>\n    </tr>\n    <tr>\n      <th>146</th>\n      <td>6.3</td>\n      <td>2.5</td>\n      <td>5.0</td>\n      <td>1.9</td>\n      <td>Iris-virginica</td>\n    </tr>\n    <tr>\n      <th>147</th>\n      <td>6.5</td>\n      <td>3.0</td>\n      <td>5.2</td>\n      <td>2.0</td>\n      <td>Iris-virginica</td>\n    </tr>\n    <tr>\n      <th>148</th>\n      <td>6.2</td>\n      <td>3.4</td>\n      <td>5.4</td>\n      <td>2.3</td>\n      <td>Iris-virginica</td>\n    </tr>\n    <tr>\n      <th>149</th>\n      <td>5.9</td>\n      <td>3.0</td>\n      <td>5.1</td>\n      <td>1.8</td>\n      <td>Iris-virginica</td>\n    </tr>\n  </tbody>\n</table>\n<p>142 rows × 5 columns</p>\n</div>"
     },
     "execution_count": 222,
     "metadata": {},
     "output_type": "execute_result"
    }
   ],
   "source": [
    "clean"
   ],
   "metadata": {
    "collapsed": false,
    "ExecuteTime": {
     "end_time": "2024-03-01T02:17:06.499074300Z",
     "start_time": "2024-03-01T02:17:06.278290700Z"
    }
   },
   "id": "ba76f128c1de6426",
   "execution_count": 222
  },
  {
   "cell_type": "code",
   "outputs": [
    {
     "data": {
      "text/plain": "(142, 5)"
     },
     "execution_count": 223,
     "metadata": {},
     "output_type": "execute_result"
    }
   ],
   "source": [
    "clean.shape"
   ],
   "metadata": {
    "collapsed": false,
    "ExecuteTime": {
     "end_time": "2024-03-01T02:17:06.605698600Z",
     "start_time": "2024-03-01T02:17:06.413331100Z"
    }
   },
   "id": "153a8ec25e0aa5a0",
   "execution_count": 223
  },
  {
   "cell_type": "code",
   "outputs": [
    {
     "data": {
      "text/plain": "<Axes: xlabel='SepalLength', ylabel='PetalWidth'>"
     },
     "execution_count": 224,
     "metadata": {},
     "output_type": "execute_result"
    },
    {
     "data": {
      "text/plain": "<Figure size 640x480 with 1 Axes>",
      "image/png": "[encoded data removed]"
     },
     "metadata": {},
     "output_type": "display_data"
    }
   ],
   "source": [
    "sns.barplot(clean, x='SepalLength', y='PetalWidth')"
   ],
   "metadata": {
    "collapsed": false,
    "ExecuteTime": {
     "end_time": "2024-03-01T02:17:07.343568400Z",
     "start_time": "2024-03-01T02:17:06.548622600Z"
    }
   },
   "id": "6f7b9e82c17245e3",
   "execution_count": 224
  },
  {
   "cell_type": "markdown",
   "source": [
    "# Mengubah label Species ke dalam tipe angka"
   ],
   "metadata": {
    "collapsed": false
   },
   "id": "3661cf128af1460c"
  },
  {
   "cell_type": "code",
   "outputs": [
    {
     "name": "stderr",
     "output_type": "stream",
     "text": [
      "C:\\Users\\ASUS\\AppData\\Local\\Temp\\ipykernel_38556\\1922882535.py:2: SettingWithCopyWarning: \n",
      "A value is trying to be set on a copy of a slice from a DataFrame.\n",
      "Try using .loc[row_indexer,col_indexer] = value instead\n",
      "\n",
      "See the caveats in the documentation: https://pandas.pydata.org/pandas-docs/stable/user_guide/indexing.html#returning-a-view-versus-a-copy\n",
      "  clean['Species'] = le.fit_transform(clean['Species'])\n"
     ]
    },
    {
     "data": {
      "text/plain": "     SepalLength  SepalWidth  PetalLength  PetalWidth  Species\n0            5.1         3.5          1.4         0.2        0\n1            4.9         3.0          1.4         0.2        0\n2            4.7         3.2          1.3         0.2        0\n3            4.6         3.1          1.5         0.2        0\n4            5.0         3.6          1.4         0.2        0\n..           ...         ...          ...         ...      ...\n145          6.7         3.0          5.2         2.3        2\n146          6.3         2.5          5.0         1.9        2\n147          6.5         3.0          5.2         2.0        2\n148          6.2         3.4          5.4         2.3        2\n149          5.9         3.0          5.1         1.8        2\n\n[142 rows x 5 columns]",
      "text/html": "<div>\n<style scoped>\n    .dataframe tbody tr th:only-of-type {\n        vertical-align: middle;\n    }\n\n    .dataframe tbody tr th {\n        vertical-align: top;\n    }\n\n    .dataframe thead th {\n        text-align: right;\n    }\n</style>\n<table border=\"1\" class=\"dataframe\">\n  <thead>\n    <tr style=\"text-align: right;\">\n      <th></th>\n      <th>SepalLength</th>\n      <th>SepalWidth</th>\n      <th>PetalLength</th>\n      <th>PetalWidth</th>\n      <th>Species</th>\n    </tr>\n  </thead>\n  <tbody>\n    <tr>\n      <th>0</th>\n      <td>5.1</td>\n      <td>3.5</td>\n      <td>1.4</td>\n      <td>0.2</td>\n      <td>0</td>\n    </tr>\n    <tr>\n      <th>1</th>\n      <td>4.9</td>\n      <td>3.0</td>\n      <td>1.4</td>\n      <td>0.2</td>\n      <td>0</td>\n    </tr>\n    <tr>\n      <th>2</th>\n      <td>4.7</td>\n      <td>3.2</td>\n      <td>1.3</td>\n      <td>0.2</td>\n      <td>0</td>\n    </tr>\n    <tr>\n      <th>3</th>\n      <td>4.6</td>\n      <td>3.1</td>\n      <td>1.5</td>\n      <td>0.2</td>\n      <td>0</td>\n    </tr>\n    <tr>\n      <th>4</th>\n      <td>5.0</td>\n      <td>3.6</td>\n      <td>1.4</td>\n      <td>0.2</td>\n      <td>0</td>\n    </tr>\n    <tr>\n      <th>...</th>\n      <td>...</td>\n      <td>...</td>\n      <td>...</td>\n      <td>...</td>\n      <td>...</td>\n    </tr>\n    <tr>\n      <th>145</th>\n      <td>6.7</td>\n      <td>3.0</td>\n      <td>5.2</td>\n      <td>2.3</td>\n      <td>2</td>\n    </tr>\n    <tr>\n      <th>146</th>\n      <td>6.3</td>\n      <td>2.5</td>\n      <td>5.0</td>\n      <td>1.9</td>\n      <td>2</td>\n    </tr>\n    <tr>\n      <th>147</th>\n      <td>6.5</td>\n      <td>3.0</td>\n      <td>5.2</td>\n      <td>2.0</td>\n      <td>2</td>\n    </tr>\n    <tr>\n      <th>148</th>\n      <td>6.2</td>\n      <td>3.4</td>\n      <td>5.4</td>\n      <td>2.3</td>\n      <td>2</td>\n    </tr>\n    <tr>\n      <th>149</th>\n      <td>5.9</td>\n      <td>3.0</td>\n      <td>5.1</td>\n      <td>1.8</td>\n      <td>2</td>\n    </tr>\n  </tbody>\n</table>\n<p>142 rows × 5 columns</p>\n</div>"
     },
     "execution_count": 225,
     "metadata": {},
     "output_type": "execute_result"
    }
   ],
   "source": [
    "le = LabelEncoder()\n",
    "clean['Species'] = le.fit_transform(clean['Species'])\n",
    "clean"
   ],
   "metadata": {
    "collapsed": false,
    "ExecuteTime": {
     "end_time": "2024-03-01T02:17:07.359740600Z",
     "start_time": "2024-03-01T02:17:07.345902900Z"
    }
   },
   "id": "73e86a3fa58c54fb",
   "execution_count": 225
  },
  {
   "cell_type": "markdown",
   "source": [
    "# Menormalisasikan data dengan Min"
   ],
   "metadata": {
    "collapsed": false
   },
   "id": "5bf0bb52b6be1efb"
  },
  {
   "cell_type": "code",
   "outputs": [
    {
     "name": "stderr",
     "output_type": "stream",
     "text": [
      "C:\\Users\\ASUS\\AppData\\Local\\Temp\\ipykernel_38556\\385301975.py:2: SettingWithCopyWarning: \n",
      "A value is trying to be set on a copy of a slice from a DataFrame.\n",
      "Try using .loc[row_indexer,col_indexer] = value instead\n",
      "\n",
      "See the caveats in the documentation: https://pandas.pydata.org/pandas-docs/stable/user_guide/indexing.html#returning-a-view-versus-a-copy\n",
      "  clean[['SepalLength', 'SepalWidth', 'PetalLength', 'PetalWidth', 'Species']] = mms.fit_transform(\n"
     ]
    },
    {
     "data": {
      "text/plain": "     SepalLength  SepalWidth  PetalLength  PetalWidth  Species\n0       0.222222    0.625000     0.067797    0.041667      0.0\n1       0.166667    0.416667     0.067797    0.041667      0.0\n2       0.111111    0.500000     0.050847    0.041667      0.0\n3       0.083333    0.458333     0.084746    0.041667      0.0\n4       0.194444    0.666667     0.067797    0.041667      0.0\n..           ...         ...          ...         ...      ...\n145     0.666667    0.416667     0.711864    0.916667      1.0\n146     0.555556    0.208333     0.677966    0.750000      1.0\n147     0.611111    0.416667     0.711864    0.791667      1.0\n148     0.527778    0.583333     0.745763    0.916667      1.0\n149     0.444444    0.416667     0.694915    0.708333      1.0\n\n[142 rows x 5 columns]",
      "text/html": "<div>\n<style scoped>\n    .dataframe tbody tr th:only-of-type {\n        vertical-align: middle;\n    }\n\n    .dataframe tbody tr th {\n        vertical-align: top;\n    }\n\n    .dataframe thead th {\n        text-align: right;\n    }\n</style>\n<table border=\"1\" class=\"dataframe\">\n  <thead>\n    <tr style=\"text-align: right;\">\n      <th></th>\n      <th>SepalLength</th>\n      <th>SepalWidth</th>\n      <th>PetalLength</th>\n      <th>PetalWidth</th>\n      <th>Species</th>\n    </tr>\n  </thead>\n  <tbody>\n    <tr>\n      <th>0</th>\n      <td>0.222222</td>\n      <td>0.625000</td>\n      <td>0.067797</td>\n      <td>0.041667</td>\n      <td>0.0</td>\n    </tr>\n    <tr>\n      <th>1</th>\n      <td>0.166667</td>\n      <td>0.416667</td>\n      <td>0.067797</td>\n      <td>0.041667</td>\n      <td>0.0</td>\n    </tr>\n    <tr>\n      <th>2</th>\n      <td>0.111111</td>\n      <td>0.500000</td>\n      <td>0.050847</td>\n      <td>0.041667</td>\n      <td>0.0</td>\n    </tr>\n    <tr>\n      <th>3</th>\n      <td>0.083333</td>\n      <td>0.458333</td>\n      <td>0.084746</td>\n      <td>0.041667</td>\n      <td>0.0</td>\n    </tr>\n    <tr>\n      <th>4</th>\n      <td>0.194444</td>\n      <td>0.666667</td>\n      <td>0.067797</td>\n      <td>0.041667</td>\n      <td>0.0</td>\n    </tr>\n    <tr>\n      <th>...</th>\n      <td>...</td>\n      <td>...</td>\n      <td>...</td>\n      <td>...</td>\n      <td>...</td>\n    </tr>\n    <tr>\n      <th>145</th>\n      <td>0.666667</td>\n      <td>0.416667</td>\n      <td>0.711864</td>\n      <td>0.916667</td>\n      <td>1.0</td>\n    </tr>\n    <tr>\n      <th>146</th>\n      <td>0.555556</td>\n      <td>0.208333</td>\n      <td>0.677966</td>\n      <td>0.750000</td>\n      <td>1.0</td>\n    </tr>\n    <tr>\n      <th>147</th>\n      <td>0.611111</td>\n      <td>0.416667</td>\n      <td>0.711864</td>\n      <td>0.791667</td>\n      <td>1.0</td>\n    </tr>\n    <tr>\n      <th>148</th>\n      <td>0.527778</td>\n      <td>0.583333</td>\n      <td>0.745763</td>\n      <td>0.916667</td>\n      <td>1.0</td>\n    </tr>\n    <tr>\n      <th>149</th>\n      <td>0.444444</td>\n      <td>0.416667</td>\n      <td>0.694915</td>\n      <td>0.708333</td>\n      <td>1.0</td>\n    </tr>\n  </tbody>\n</table>\n<p>142 rows × 5 columns</p>\n</div>"
     },
     "execution_count": 226,
     "metadata": {},
     "output_type": "execute_result"
    }
   ],
   "source": [
    "mms = MinMaxScaler()\n",
    "clean[['SepalLength', 'SepalWidth', 'PetalLength', 'PetalWidth', 'Species']] = mms.fit_transform(\n",
    "    clean[['SepalLength', 'SepalWidth', 'PetalLength', 'PetalWidth', 'Species']])\n",
    "clean"
   ],
   "metadata": {
    "collapsed": false,
    "ExecuteTime": {
     "end_time": "2024-03-01T02:17:07.465548Z",
     "start_time": "2024-03-01T02:17:07.362089100Z"
    }
   },
   "id": "c915887a997878a7",
   "execution_count": 226
  },
  {
   "cell_type": "markdown",
   "source": [
    "# Menormalisasikan dengan Standard Scaler"
   ],
   "metadata": {
    "collapsed": false
   },
   "id": "7d44a3a6b3452ac0"
  },
  {
   "cell_type": "code",
   "outputs": [
    {
     "name": "stderr",
     "output_type": "stream",
     "text": [
      "C:\\Users\\ASUS\\AppData\\Local\\Temp\\ipykernel_38556\\3357336214.py:2: SettingWithCopyWarning: \n",
      "A value is trying to be set on a copy of a slice from a DataFrame.\n",
      "Try using .loc[row_indexer,col_indexer] = value instead\n",
      "\n",
      "See the caveats in the documentation: https://pandas.pydata.org/pandas-docs/stable/user_guide/indexing.html#returning-a-view-versus-a-copy\n",
      "  clean[['SepalLength', 'SepalWidth', 'PetalLength', 'PetalWidth', 'Species']] = mms.fit_transform(\n"
     ]
    },
    {
     "data": {
      "text/plain": "     SepalLength  SepalWidth  PetalLength  PetalWidth   Species\n0      -0.942789    1.000472    -1.380149   -1.359383 -1.262206\n1      -1.184661   -0.143385    -1.380149   -1.359383 -1.262206\n2      -1.426532    0.314158    -1.437319   -1.359383 -1.262206\n3      -1.547468    0.085387    -1.322978   -1.359383 -1.262206\n4      -1.063725    1.229244    -1.380149   -1.359383 -1.262206\n..           ...         ...          ...         ...       ...\n145     0.992185   -0.143385     0.792337    1.424738  1.209977\n146     0.508442   -1.287242     0.677996    0.894429  1.209977\n147     0.750313   -0.143385     0.792337    1.027006  1.209977\n148     0.387506    0.771701     0.906679    1.424738  1.209977\n149     0.024698   -0.143385     0.735167    0.761852  1.209977\n\n[142 rows x 5 columns]",
      "text/html": "<div>\n<style scoped>\n    .dataframe tbody tr th:only-of-type {\n        vertical-align: middle;\n    }\n\n    .dataframe tbody tr th {\n        vertical-align: top;\n    }\n\n    .dataframe thead th {\n        text-align: right;\n    }\n</style>\n<table border=\"1\" class=\"dataframe\">\n  <thead>\n    <tr style=\"text-align: right;\">\n      <th></th>\n      <th>SepalLength</th>\n      <th>SepalWidth</th>\n      <th>PetalLength</th>\n      <th>PetalWidth</th>\n      <th>Species</th>\n    </tr>\n  </thead>\n  <tbody>\n    <tr>\n      <th>0</th>\n      <td>-0.942789</td>\n      <td>1.000472</td>\n      <td>-1.380149</td>\n      <td>-1.359383</td>\n      <td>-1.262206</td>\n    </tr>\n    <tr>\n      <th>1</th>\n      <td>-1.184661</td>\n      <td>-0.143385</td>\n      <td>-1.380149</td>\n      <td>-1.359383</td>\n      <td>-1.262206</td>\n    </tr>\n    <tr>\n      <th>2</th>\n      <td>-1.426532</td>\n      <td>0.314158</td>\n      <td>-1.437319</td>\n      <td>-1.359383</td>\n      <td>-1.262206</td>\n    </tr>\n    <tr>\n      <th>3</th>\n      <td>-1.547468</td>\n      <td>0.085387</td>\n      <td>-1.322978</td>\n      <td>-1.359383</td>\n      <td>-1.262206</td>\n    </tr>\n    <tr>\n      <th>4</th>\n      <td>-1.063725</td>\n      <td>1.229244</td>\n      <td>-1.380149</td>\n      <td>-1.359383</td>\n      <td>-1.262206</td>\n    </tr>\n    <tr>\n      <th>...</th>\n      <td>...</td>\n      <td>...</td>\n      <td>...</td>\n      <td>...</td>\n      <td>...</td>\n    </tr>\n    <tr>\n      <th>145</th>\n      <td>0.992185</td>\n      <td>-0.143385</td>\n      <td>0.792337</td>\n      <td>1.424738</td>\n      <td>1.209977</td>\n    </tr>\n    <tr>\n      <th>146</th>\n      <td>0.508442</td>\n      <td>-1.287242</td>\n      <td>0.677996</td>\n      <td>0.894429</td>\n      <td>1.209977</td>\n    </tr>\n    <tr>\n      <th>147</th>\n      <td>0.750313</td>\n      <td>-0.143385</td>\n      <td>0.792337</td>\n      <td>1.027006</td>\n      <td>1.209977</td>\n    </tr>\n    <tr>\n      <th>148</th>\n      <td>0.387506</td>\n      <td>0.771701</td>\n      <td>0.906679</td>\n      <td>1.424738</td>\n      <td>1.209977</td>\n    </tr>\n    <tr>\n      <th>149</th>\n      <td>0.024698</td>\n      <td>-0.143385</td>\n      <td>0.735167</td>\n      <td>0.761852</td>\n      <td>1.209977</td>\n    </tr>\n  </tbody>\n</table>\n<p>142 rows × 5 columns</p>\n</div>"
     },
     "execution_count": 227,
     "metadata": {},
     "output_type": "execute_result"
    }
   ],
   "source": [
    "mms = StandardScaler()\n",
    "clean[['SepalLength', 'SepalWidth', 'PetalLength', 'PetalWidth', 'Species']] = mms.fit_transform(\n",
    "    clean[['SepalLength', 'SepalWidth', 'PetalLength', 'PetalWidth', 'Species']])\n",
    "clean"
   ],
   "metadata": {
    "collapsed": false,
    "ExecuteTime": {
     "end_time": "2024-03-01T02:17:07.467552200Z",
     "start_time": "2024-03-01T02:17:07.386518Z"
    }
   },
   "id": "bc2c0162be2c6e3b",
   "execution_count": 227
  },
  {
   "cell_type": "code",
   "outputs": [],
   "source": [],
   "metadata": {
    "collapsed": false
   },
   "id": "4975f23aba27400"
  }
 ],
 "metadata": {
  "kernelspec": {
   "display_name": "Python 3",
   "language": "python",
   "name": "python3"
  },
  "language_info": {
   "codemirror_mode": {
    "name": "ipython",
    "version": 2
   },
   "file_extension": ".py",
   "mimetype": "text/x-python",
   "name": "python",
   "nbconvert_exporter": "python",
   "pygments_lexer": "ipython2",
   "version": "2.7.6"
  }
 },
 "nbformat": 4,
 "nbformat_minor": 5
}
