{
 "cells": [
  {
   "cell_type": "code",
   "execution_count": 28,
   "id": "initial_id",
   "metadata": {
    "collapsed": true,
    "ExecuteTime": {
     "end_time": "2023-12-08T14:55:04.351940300Z",
     "start_time": "2023-12-08T14:55:04.212568800Z"
    }
   },
   "outputs": [
    {
     "data": {
      "text/plain": "           Id      Make    Vehicle Class Engine Size(L)      Cylinders  \\\n0      137142  CADILUXE         MID-SIZE            3.6            NaN   \n1      137143      FOLD  VAN - PASSENGER            3.7            6.0   \n2      137144     MITSU      SUV - SMALL            6.0            NaN   \n3      137145     LECUS         MID-SIZE            4.6            NaN   \n4      137146       BMV   SUV - STANDARD            4.4            8.0   \n...       ...       ...              ...            ...            ...   \n58771  195913       KIO      SUV - SMALL            3.3            NaN   \n58772  195914      FOLD      unspecified            1.6            4.0   \n58773  195915     CHEVO   SUV - STANDARD            3.5  unestablished   \n58774  195916      FOLD          unknown            5.0            8.0   \n58775  195917     ASURA      SUV - SMALL            3.5            6.0   \n\n      Transmission Fuel Type Fuel Consumption City     Fuel Consumption Hwy  \\\n0              AS8         X             6.40 km/L            1.77 L/100 km   \n1              AS6         X         21.11 L/100km  14.38 liters per 100 km   \n2              AV6         X         9.60 MPG (AS)           27.45 mpg Imp.   \n3              AS8         Z           1.68 L/10km                6.29 km/L   \n4              AS8         Z         5.65 MPG (AS)           14.75 mpg Imp.   \n...            ...       ...                   ...                      ...   \n58771           A6         X        15.39 mpg Imp.              2.09 L/10km   \n58772          AS6         X        38.00 MPG (AS)           35.64 MPG (AS)   \n58773           A6         X             6.90 km/L           21.38 MPG (AS)   \n58774          AS6         X        27.93 MPG (AS)           51.20 MPG (AS)   \n58775          AS9         Z             5.03 km/L         1516.49 mpg Imp.   \n\n      Fuel Consumption Comb  \n0            25.04 MPG (AS)  \n1             5.53 km per L  \n2            12.99 MPG (AS)  \n3             16.42 L/100km  \n4             31.52 L/100km  \n...                     ...  \n58771           1.95 L/10km  \n58772            15.69 km/L  \n58773        18.20 MPG (AS)  \n58774        42.16 mpg Imp.  \n58775        25.65 mpg Imp.  \n\n[58776 rows x 10 columns]",
      "text/html": "<div>\n<style scoped>\n    .dataframe tbody tr th:only-of-type {\n        vertical-align: middle;\n    }\n\n    .dataframe tbody tr th {\n        vertical-align: top;\n    }\n\n    .dataframe thead th {\n        text-align: right;\n    }\n</style>\n<table border=\"1\" class=\"dataframe\">\n  <thead>\n    <tr style=\"text-align: right;\">\n      <th></th>\n      <th>Id</th>\n      <th>Make</th>\n      <th>Vehicle Class</th>\n      <th>Engine Size(L)</th>\n      <th>Cylinders</th>\n      <th>Transmission</th>\n      <th>Fuel Type</th>\n      <th>Fuel Consumption City</th>\n      <th>Fuel Consumption Hwy</th>\n      <th>Fuel Consumption Comb</th>\n    </tr>\n  </thead>\n  <tbody>\n    <tr>\n      <th>0</th>\n      <td>137142</td>\n      <td>CADILUXE</td>\n      <td>MID-SIZE</td>\n      <td>3.6</td>\n      <td>NaN</td>\n      <td>AS8</td>\n      <td>X</td>\n      <td>6.40 km/L</td>\n      <td>1.77 L/100 km</td>\n      <td>25.04 MPG (AS)</td>\n    </tr>\n    <tr>\n      <th>1</th>\n      <td>137143</td>\n      <td>FOLD</td>\n      <td>VAN - PASSENGER</td>\n      <td>3.7</td>\n      <td>6.0</td>\n      <td>AS6</td>\n      <td>X</td>\n      <td>21.11 L/100km</td>\n      <td>14.38 liters per 100 km</td>\n      <td>5.53 km per L</td>\n    </tr>\n    <tr>\n      <th>2</th>\n      <td>137144</td>\n      <td>MITSU</td>\n      <td>SUV - SMALL</td>\n      <td>6.0</td>\n      <td>NaN</td>\n      <td>AV6</td>\n      <td>X</td>\n      <td>9.60 MPG (AS)</td>\n      <td>27.45 mpg Imp.</td>\n      <td>12.99 MPG (AS)</td>\n    </tr>\n    <tr>\n      <th>3</th>\n      <td>137145</td>\n      <td>LECUS</td>\n      <td>MID-SIZE</td>\n      <td>4.6</td>\n      <td>NaN</td>\n      <td>AS8</td>\n      <td>Z</td>\n      <td>1.68 L/10km</td>\n      <td>6.29 km/L</td>\n      <td>16.42 L/100km</td>\n    </tr>\n    <tr>\n      <th>4</th>\n      <td>137146</td>\n      <td>BMV</td>\n      <td>SUV - STANDARD</td>\n      <td>4.4</td>\n      <td>8.0</td>\n      <td>AS8</td>\n      <td>Z</td>\n      <td>5.65 MPG (AS)</td>\n      <td>14.75 mpg Imp.</td>\n      <td>31.52 L/100km</td>\n    </tr>\n    <tr>\n      <th>...</th>\n      <td>...</td>\n      <td>...</td>\n      <td>...</td>\n      <td>...</td>\n      <td>...</td>\n      <td>...</td>\n      <td>...</td>\n      <td>...</td>\n      <td>...</td>\n      <td>...</td>\n    </tr>\n    <tr>\n      <th>58771</th>\n      <td>195913</td>\n      <td>KIO</td>\n      <td>SUV - SMALL</td>\n      <td>3.3</td>\n      <td>NaN</td>\n      <td>A6</td>\n      <td>X</td>\n      <td>15.39 mpg Imp.</td>\n      <td>2.09 L/10km</td>\n      <td>1.95 L/10km</td>\n    </tr>\n    <tr>\n      <th>58772</th>\n      <td>195914</td>\n      <td>FOLD</td>\n      <td>unspecified</td>\n      <td>1.6</td>\n      <td>4.0</td>\n      <td>AS6</td>\n      <td>X</td>\n      <td>38.00 MPG (AS)</td>\n      <td>35.64 MPG (AS)</td>\n      <td>15.69 km/L</td>\n    </tr>\n    <tr>\n      <th>58773</th>\n      <td>195915</td>\n      <td>CHEVO</td>\n      <td>SUV - STANDARD</td>\n      <td>3.5</td>\n      <td>unestablished</td>\n      <td>A6</td>\n      <td>X</td>\n      <td>6.90 km/L</td>\n      <td>21.38 MPG (AS)</td>\n      <td>18.20 MPG (AS)</td>\n    </tr>\n    <tr>\n      <th>58774</th>\n      <td>195916</td>\n      <td>FOLD</td>\n      <td>unknown</td>\n      <td>5.0</td>\n      <td>8.0</td>\n      <td>AS6</td>\n      <td>X</td>\n      <td>27.93 MPG (AS)</td>\n      <td>51.20 MPG (AS)</td>\n      <td>42.16 mpg Imp.</td>\n    </tr>\n    <tr>\n      <th>58775</th>\n      <td>195917</td>\n      <td>ASURA</td>\n      <td>SUV - SMALL</td>\n      <td>3.5</td>\n      <td>6.0</td>\n      <td>AS9</td>\n      <td>Z</td>\n      <td>5.03 km/L</td>\n      <td>1516.49 mpg Imp.</td>\n      <td>25.65 mpg Imp.</td>\n    </tr>\n  </tbody>\n</table>\n<p>58776 rows × 10 columns</p>\n</div>"
     },
     "execution_count": 28,
     "metadata": {},
     "output_type": "execute_result"
    }
   ],
   "source": [
    "import numpy as np\n",
    "import pandas as pd\n",
    "from sklearn.ensemble import RandomForestClassifier\n",
    "from sklearn.model_selection import GridSearchCV\n",
    "from sklearn.neighbors import KNeighborsClassifier\n",
    "from sklearn.model_selection import train_test_split\n",
    "from sklearn.preprocessing import LabelEncoder\n",
    "from sklearn.model_selection import train_test_split\n",
    "from sklearn.preprocessing import LabelEncoder\n",
    "from sklearn.svm import SVC\n",
    "import plotly.express as px\n",
    "from sklearn.preprocessing import MinMaxScaler\n",
    "from sklearn.model_selection import LeaveOneOut\n",
    "from sklearn.metrics import accuracy_score\n",
    "import matplotlib.pyplot as plt\n",
    "import seaborn as sns\n",
    "from imblearn.over_sampling import SMOTE\n",
    "\n",
    "datasTest = pd.read_csv('./dataslayer/test.csv')\n",
    "datasTest\n"
   ]
  },
  {
   "cell_type": "markdown",
   "source": [
    "# Melihat deskripsi dataset "
   ],
   "metadata": {
    "collapsed": false
   },
   "id": "cd0c3859f0459a16"
  },
  {
   "cell_type": "code",
   "execution_count": 29,
   "outputs": [
    {
     "data": {
      "text/plain": "                  Id\ncount   58776.000000\nmean   166529.500000\nstd     16967.314048\nmin    137142.000000\n25%    151835.750000\n50%    166529.500000\n75%    181223.250000\nmax    195917.000000",
      "text/html": "<div>\n<style scoped>\n    .dataframe tbody tr th:only-of-type {\n        vertical-align: middle;\n    }\n\n    .dataframe tbody tr th {\n        vertical-align: top;\n    }\n\n    .dataframe thead th {\n        text-align: right;\n    }\n</style>\n<table border=\"1\" class=\"dataframe\">\n  <thead>\n    <tr style=\"text-align: right;\">\n      <th></th>\n      <th>Id</th>\n    </tr>\n  </thead>\n  <tbody>\n    <tr>\n      <th>count</th>\n      <td>58776.000000</td>\n    </tr>\n    <tr>\n      <th>mean</th>\n      <td>166529.500000</td>\n    </tr>\n    <tr>\n      <th>std</th>\n      <td>16967.314048</td>\n    </tr>\n    <tr>\n      <th>min</th>\n      <td>137142.000000</td>\n    </tr>\n    <tr>\n      <th>25%</th>\n      <td>151835.750000</td>\n    </tr>\n    <tr>\n      <th>50%</th>\n      <td>166529.500000</td>\n    </tr>\n    <tr>\n      <th>75%</th>\n      <td>181223.250000</td>\n    </tr>\n    <tr>\n      <th>max</th>\n      <td>195917.000000</td>\n    </tr>\n  </tbody>\n</table>\n</div>"
     },
     "execution_count": 29,
     "metadata": {},
     "output_type": "execute_result"
    }
   ],
   "source": [
    "datasTest.describe()"
   ],
   "metadata": {
    "collapsed": false,
    "ExecuteTime": {
     "end_time": "2023-12-08T14:55:13.720678600Z",
     "start_time": "2023-12-08T14:55:13.704231Z"
    }
   },
   "id": "a1d341c2891ce844"
  },
  {
   "cell_type": "markdown",
   "source": [
    "# Membersihkan data yang Null"
   ],
   "metadata": {
    "collapsed": false
   },
   "id": "87b84fc1830f1832"
  },
  {
   "cell_type": "code",
   "execution_count": 30,
   "outputs": [
    {
     "name": "stdout",
     "output_type": "stream",
     "text": [
      "None\n"
     ]
    }
   ],
   "source": [
    "datasTest = datasTest.dropna(inplace=True)\n",
    "print(datasTest)"
   ],
   "metadata": {
    "collapsed": false,
    "ExecuteTime": {
     "end_time": "2023-12-08T14:55:15.809642700Z",
     "start_time": "2023-12-08T14:55:15.737970800Z"
    }
   },
   "id": "3162d13e115ab19a"
  },
  {
   "cell_type": "code",
   "execution_count": 31,
   "outputs": [
    {
     "ename": "TypeError",
     "evalue": "'NoneType' object is not subscriptable",
     "output_type": "error",
     "traceback": [
      "\u001B[1;31m---------------------------------------------------------------------------\u001B[0m",
      "\u001B[1;31mTypeError\u001B[0m                                 Traceback (most recent call last)",
      "Cell \u001B[1;32mIn[31], line 1\u001B[0m\n\u001B[1;32m----> 1\u001B[0m \u001B[43mdatasTest\u001B[49m\u001B[43m[\u001B[49m\u001B[38;5;124;43m'\u001B[39;49m\u001B[38;5;124;43mF\u001B[39;49m\u001B[38;5;124;43m'\u001B[39;49m\u001B[43m]\u001B[49m\n",
      "\u001B[1;31mTypeError\u001B[0m: 'NoneType' object is not subscriptable"
     ]
    }
   ],
   "source": [],
   "metadata": {
    "collapsed": false,
    "ExecuteTime": {
     "end_time": "2023-12-08T14:55:17.744608400Z",
     "start_time": "2023-12-08T14:55:17.732554Z"
    }
   },
   "id": "d682b6765ea5d74b"
  }
 ],
 "metadata": {
  "kernelspec": {
   "display_name": "Python 3",
   "language": "python",
   "name": "python3"
  },
  "language_info": {
   "codemirror_mode": {
    "name": "ipython",
    "version": 2
   },
   "file_extension": ".py",
   "mimetype": "text/x-python",
   "name": "python",
   "nbconvert_exporter": "python",
   "pygments_lexer": "ipython2",
   "version": "2.7.6"
  }
 },
 "nbformat": 4,
 "nbformat_minor": 5
}
